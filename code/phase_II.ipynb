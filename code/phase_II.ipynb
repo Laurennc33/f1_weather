{
 "cells": [
  {
   "cell_type": "markdown",
   "id": "40ed5ba6-2c00-4f74-886d-ab9fa360bb67",
   "metadata": {},
   "source": [
    "# Phase II: Data Curation, Exploratory Analysis and Plotting (5\\%)\n",
    "\n",
    "### Group Members: Lauren Cummings, Riyana Roy, Satvik Repaka, Justin Huang\n",
    "\n",
    "#### Due (Each Group): October 25\n",
    "\n",
    "Each **project group** will submit a single **jupyter notebook** which contains:\n",
    "\n",
    "1. (1\\%) Expresses the central motivation of the project and explains the (at least) two key questions to be explored. Gives a summary of the data processing pipeline so a technical expert can easily follow along.\n",
    "2. (2\\%) Obtains, cleans, and merges all data sources involved in the project.\n",
    "3. (2\\%) Builds at least two visualizations (graphs/plots) from the data which help to understand or answer the questions of interest. These visualizations will be graded based on how much information they can effectively communicate to readers. Please make sure your visualization are sufficiently distinct from each other."
   ]
  },
  {
   "cell_type": "markdown",
   "id": "1c7107fe-b128-44b6-8c17-61b2795e72cc",
   "metadata": {},
   "source": [
    "# Project Details"
   ]
  },
  {
   "cell_type": "markdown",
   "id": "9effb698-4908-46f0-98eb-e708d64bbd1e",
   "metadata": {},
   "source": [
    "### **Central Motivation**  \n",
    "This project aims to understand how tire strategy and weather conditions influence race outcomes. By analyzing these factors together, we aim to gain insights into how teams optimize performance and make decisions under changing conditions.\n",
    "\n",
    "---\n",
    "\n",
    "### **Key Questions:**  \n",
    "1. How does tire strategy impact driver performance and race outcomes under varying weather conditions? \n",
    "2. How do changing weather conditions influence pit stop timing and tire choices throughout the race?\n",
    "\n",
    "---\n",
    "\n",
    "### **Data Processing Overview:**  \n",
    "\n",
    "1. **Data Ingestion**: Collect data from race sessions, including event logs, telemetry, and weather data.  \n",
    "\n",
    "2. **Preprocessing**:  \n",
    "   - **Laps Data:**  \n",
    "     - Fill missing pit stop times.  \n",
    "     - Remove deleted or inaccurate laps.  \n",
    "     - Map track statuses to meaningful labels (e.g, Safety Car, Yellow Flag).  \n",
    "\n",
    "   - **Telemetry Data:**    \n",
    "     - Remove outliers in speed, RPM, and gears.  \n",
    "\n",
    "   - **Weather Data:**  \n",
    "     - Align weather timestamps with lap data for consistency.  \n",
    "     - Filter out unrealistic wind speed values.  \n",
    "     - Group consecutive rainfall events into a single rain period.  \n",
    "     - Fill missing temperature and pressure values using forward filling.\n",
    "\n",
    "\n",
    "3. **Exploratory Data Analysis (EDA)**: Visualize strategy patterns and weather impacts.  \n",
    "4. **Modeling/Analysis**: Apply statistical methods to find relationships between tires, weather, and strategy.  \n",
    "5. **Reporting**: Write report to answer the key questions.  \n",
    "\n"
   ]
  },
  {
   "cell_type": "markdown",
   "id": "4f865bc9-63c2-44e6-82b5-dafe11a4595c",
   "metadata": {},
   "source": [
    "# Imported Libraries"
   ]
  },
  {
   "cell_type": "code",
   "execution_count": 3,
   "id": "577d745a-9c34-49bd-9660-5ec79ad720d3",
   "metadata": {},
   "outputs": [],
   "source": [
    "import os\n",
    "import fastf1\n",
    "import logging\n",
    "import pandas as pd"
   ]
  },
  {
   "cell_type": "markdown",
   "id": "57bf844b-ae8f-4f60-935c-ef8f38e6df8f",
   "metadata": {},
   "source": [
    "# Data Retrieval"
   ]
  },
  {
   "cell_type": "code",
   "execution_count": 5,
   "id": "9fb20318-e3a8-43fa-ba3f-60f5d0ec9497",
   "metadata": {},
   "outputs": [
    {
     "name": "stdout",
     "output_type": "stream",
     "text": [
      "Laps Data:\n",
      "                    Time Driver DriverNumber                LapTime  \\\n",
      "0 0 days 00:35:09.853000    GAS           10 0 days 00:01:54.003000   \n",
      "1 0 days 00:37:32.883000    GAS           10 0 days 00:02:23.030000   \n",
      "2 0 days 00:39:53.731000    GAS           10 0 days 00:02:20.848000   \n",
      "3 0 days 00:42:18.428000    GAS           10 0 days 00:02:24.697000   \n",
      "4 0 days 00:44:42.360000    GAS           10 0 days 00:02:23.932000   \n",
      "\n",
      "   LapNumber  Stint PitOutTime PitInTime            Sector1Time  \\\n",
      "0        1.0    1.0        NaT       NaT                    NaT   \n",
      "1        2.0    1.0        NaT       NaT 0 days 00:00:43.289000   \n",
      "2        3.0    1.0        NaT       NaT 0 days 00:00:42.977000   \n",
      "3        4.0    1.0        NaT       NaT 0 days 00:00:42.573000   \n",
      "4        5.0    1.0        NaT       NaT 0 days 00:00:41.394000   \n",
      "\n",
      "             Sector2Time            Sector3Time     Sector1SessionTime  \\\n",
      "0 0 days 00:00:37.569000 0 days 00:00:36.794000                    NaT   \n",
      "1 0 days 00:00:51.176000 0 days 00:00:48.565000 0 days 00:35:53.129000   \n",
      "2 0 days 00:00:51.004000 0 days 00:00:46.867000 0 days 00:38:15.847000   \n",
      "3 0 days 00:00:53.772000 0 days 00:00:48.352000 0 days 00:40:36.291000   \n",
      "4 0 days 00:00:54.989000 0 days 00:00:47.549000 0 days 00:42:59.809000   \n",
      "\n",
      "      Sector2SessionTime     Sector3SessionTime  SpeedI1  SpeedI2  SpeedFL  \\\n",
      "0 0 days 00:34:33.082000 0 days 00:35:09.993000    167.0    234.0    217.0   \n",
      "1 0 days 00:36:44.305000 0 days 00:37:32.870000    164.0     66.0    123.0   \n",
      "2 0 days 00:39:06.851000 0 days 00:39:53.718000    169.0     78.0    161.0   \n",
      "3 0 days 00:41:30.063000 0 days 00:42:18.415000    134.0     72.0    160.0   \n",
      "4 0 days 00:43:54.798000 0 days 00:44:42.347000    166.0     92.0    135.0   \n",
      "\n",
      "   SpeedST IsPersonalBest Compound  TyreLife  FreshTyre        Team  \\\n",
      "0    214.0          False      WET       1.0       True  AlphaTauri   \n",
      "1    161.0           True      WET       2.0       True  AlphaTauri   \n",
      "2    154.0           True      WET       3.0       True  AlphaTauri   \n",
      "3    148.0          False      WET       4.0       True  AlphaTauri   \n",
      "4    150.0          False      WET       5.0       True  AlphaTauri   \n",
      "\n",
      "            LapStartTime            LapStartDate TrackStatus  Position  \\\n",
      "0 0 days 00:33:15.688000 2021-04-18 13:03:15.707         124       7.0   \n",
      "1 0 days 00:35:09.853000 2021-04-18 13:05:09.872           4       6.0   \n",
      "2 0 days 00:37:32.883000 2021-04-18 13:07:32.902           4       6.0   \n",
      "3 0 days 00:39:53.731000 2021-04-18 13:09:53.750           4       6.0   \n",
      "4 0 days 00:42:18.428000 2021-04-18 13:12:18.447           4       6.0   \n",
      "\n",
      "   Deleted DeletedReason  FastF1Generated  IsAccurate  \n",
      "0    False                          False       False  \n",
      "1    False                          False       False  \n",
      "2    False                          False       False  \n",
      "3    False                          False       False  \n",
      "4    False                          False       False  \n",
      "\n",
      "Telemetry Data:\n",
      "                     Date            SessionTime DriverAhead  \\\n",
      "2 2021-04-18 15:01:00.117 0 days 02:31:00.098000               \n",
      "3 2021-04-18 15:01:00.155 0 days 02:31:00.136000               \n",
      "4 2021-04-18 15:01:00.176 0 days 02:31:00.157000               \n",
      "5 2021-04-18 15:01:00.395 0 days 02:31:00.376000           4   \n",
      "6 2021-04-18 15:01:00.396 0 days 02:31:00.377000           4   \n",
      "\n",
      "   DistanceToDriverAhead                   Time    RPM  Speed  nGear  \\\n",
      "2              53.140556        0 days 00:00:00  10901    294      7   \n",
      "3              53.140556 0 days 00:00:00.038000  10594    295      8   \n",
      "4              53.140556 0 days 00:00:00.059000  10620    296      8   \n",
      "5              53.140556 0 days 00:00:00.278000  10646    298      8   \n",
      "6              52.918333 0 days 00:00:00.279000  10689    298      8   \n",
      "\n",
      "   Throttle  Brake  DRS         Source   Distance  RelativeDistance   Status  \\\n",
      "2       100  False   12  interpolation   0.096917          0.000020  OnTrack   \n",
      "3       100  False   12            car   3.226111          0.000657  OnTrack   \n",
      "4       100  False   12            pos   4.957851          0.001009  OnTrack   \n",
      "5       100  False   12            car  23.092778          0.004702  OnTrack   \n",
      "6       100  False   12            pos  23.175661          0.004719  OnTrack   \n",
      "\n",
      "             X            Y           Z  \n",
      "2 -1367.193591 -1596.850025  784.892570  \n",
      "3 -1393.380826 -1598.141785  784.951528  \n",
      "4 -1409.000000 -1599.000000  785.000000  \n",
      "5 -1605.114899 -1611.944771  785.995191  \n",
      "6 -1606.000000 -1612.000000  786.000000  \n",
      "\n",
      "Weather Data:\n",
      "                    Time  AirTemp  Humidity  Pressure  Rainfall  TrackTemp  \\\n",
      "0 0 days 00:00:41.291000      9.8      68.7    1011.7      True       18.1   \n",
      "1 0 days 00:01:41.287000      9.7      70.0    1011.6      True       18.1   \n",
      "2 0 days 00:02:41.294000      9.6      69.2    1011.6      True       18.0   \n",
      "3 0 days 00:03:41.289000      9.4      68.3    1011.6      True       17.7   \n",
      "4 0 days 00:04:41.288000      9.3      67.9    1011.7      True       17.6   \n",
      "\n",
      "   WindDirection  WindSpeed  \n",
      "0             61        0.2  \n",
      "1            261        0.1  \n",
      "2            243        0.4  \n",
      "3            250        0.4  \n",
      "4            259        0.5  \n"
     ]
    }
   ],
   "source": [
    "# Create the directory if it doesn't exist\n",
    "if not os.path.exists('cache'):\n",
    "    os.makedirs('cache')\n",
    "\n",
    "# Enable cache \n",
    "fastf1.Cache.enable_cache('cache')\n",
    "\n",
    "# Suppress INFO and WARNING messages\n",
    "logging.getLogger('fastf1').setLevel(logging.ERROR)\n",
    "\n",
    "# Load session data\n",
    "session = fastf1.get_session(2021, 'Imola', 'R')\n",
    "session.load()\n",
    "\n",
    "# Extract data\n",
    "laps = session.laps\n",
    "print(\"Laps Data:\")\n",
    "with pd.option_context('display.max_rows', None, 'display.max_columns', None):\n",
    "    print(laps.head())  # Print all columns for the first few rows\n",
    "\n",
    "fastest_lap = laps.pick_fastest()\n",
    "telemetry = fastest_lap.get_telemetry()\n",
    "print(\"\\nTelemetry Data:\")\n",
    "with pd.option_context('display.max_rows', None, 'display.max_columns', None):\n",
    "    print(telemetry.head())  # Print all columns for the first few rows\n",
    "\n",
    "weather = session.weather_data\n",
    "print(\"\\nWeather Data:\")\n",
    "with pd.option_context('display.max_rows', None, 'display.max_columns', None):\n",
    "    print(weather.head())  # Print all columns for the first few rows\n"
   ]
  },
  {
   "cell_type": "markdown",
   "id": "48e93ba6-3c57-44d6-a9c5-28c6a69ebe28",
   "metadata": {},
   "source": [
    "# Data Cleaning"
   ]
  },
  {
   "cell_type": "code",
   "execution_count": 8,
   "id": "fcaf8245-6793-40b7-b135-254272f25351",
   "metadata": {},
   "outputs": [],
   "source": [
    "# convert tines\n",
    "laps['LapTime'] = pd.to_timedelta(laps['LapTime'])\n",
    "laps['PitOutTime'] = pd.to_timedelta(laps['PitOutTime'])\n",
    "laps['PitInTime'] = pd.to_timedelta(laps['PitInTime'])\n",
    "laps['Sector1Time'] = pd.to_timedelta(laps['Sector1Time'])\n",
    "laps['Sector2Time'] = pd.to_timedelta(laps['Sector2Time'])\n",
    "\n",
    "# check if they're strings\n",
    "if laps['LapStartTime'].dtype == 'object':  \n",
    "    laps['LapStartTime'] = pd.to_datetime(laps['LapStartTime'])\n",
    "if laps['LapStartDate'].dtype == 'object':  \n",
    "    laps['LapStartDate'] = pd.to_datetime(laps['LapStartDate'])"
   ]
  },
  {
   "cell_type": "code",
   "execution_count": 11,
   "id": "eec71722-dfa8-4723-aaf9-4791f0104271",
   "metadata": {},
   "outputs": [
    {
     "data": {
      "text/plain": [
       "0      0 days 01:28:05.076684210\n",
       "1      0 days 01:28:05.076684210\n",
       "2      0 days 01:28:05.076684210\n",
       "3      0 days 01:28:05.076684210\n",
       "4      0 days 01:28:05.076684210\n",
       "                  ...           \n",
       "1122   0 days 01:28:05.076684210\n",
       "1123   0 days 01:28:05.076684210\n",
       "1124   0 days 01:28:05.076684210\n",
       "1125   0 days 01:28:05.076684210\n",
       "1126   0 days 01:28:05.076684210\n",
       "Name: PitInTime, Length: 1127, dtype: timedelta64[ns]"
      ]
     },
     "execution_count": 11,
     "metadata": {},
     "output_type": "execute_result"
    }
   ],
   "source": [
    "# fill nan\n",
    "laps['PitOutTime'].fillna(laps['PitOutTime'].mean())\n",
    "laps['PitInTime'].fillna(laps['PitInTime'].mean()) "
   ]
  },
  {
   "cell_type": "code",
   "execution_count": 12,
   "id": "88fda96c-10a1-4cca-8be0-0af4fffef098",
   "metadata": {},
   "outputs": [],
   "source": [
    "# remove inaccurate laps\n",
    "laps = laps[laps['Deleted'] == False]"
   ]
  },
  {
   "cell_type": "code",
   "execution_count": 14,
   "id": "b4f07b9e-1262-4cd7-ac6f-4f345dbbb7ea",
   "metadata": {},
   "outputs": [],
   "source": [
    "# adhusted labels\n",
    "track_status_mapping = {0: 'Green', 1: 'Yellow Flag', 2: 'Red Flag', 3: 'Safety Car', 4: 'Virtual Safety Car'}\n",
    "laps.loc[:, 'TrackStatus'] = laps['TrackStatus'].map(track_status_mapping)"
   ]
  },
  {
   "cell_type": "code",
   "execution_count": 19,
   "id": "89536d28-7014-4722-818e-18a10c9020d6",
   "metadata": {},
   "outputs": [],
   "source": [
    "# convert times to match\n",
    "telemetry['SessionTime'] = pd.to_timedelta(telemetry['SessionTime'])\n",
    "if telemetry['Date'].dtype == 'object':  \n",
    "    telemetry['Date'] = pd.to_datetime(telemetry['Date'])"
   ]
  },
  {
   "cell_type": "code",
   "execution_count": 20,
   "id": "582b8f46-7e47-44ee-9214-b44e7b10799f",
   "metadata": {},
   "outputs": [
    {
     "data": {
      "text/plain": [
       "2      294\n",
       "3      295\n",
       "4      296\n",
       "5      298\n",
       "6      298\n",
       "      ... \n",
       "657    278\n",
       "658    279\n",
       "659    281\n",
       "660    282\n",
       "661    282\n",
       "Name: Speed, Length: 660, dtype: int64"
      ]
     },
     "execution_count": 20,
     "metadata": {},
     "output_type": "execute_result"
    }
   ],
   "source": [
    "# missing vals\n",
    "telemetry['RPM'].fillna(telemetry['RPM'].mean())\n",
    "telemetry['Speed'].fillna(telemetry['Speed'].mean())"
   ]
  },
  {
   "cell_type": "code",
   "execution_count": 21,
   "id": "d665e7ce-5f8d-4a76-893b-c55de0cb689d",
   "metadata": {},
   "outputs": [],
   "source": [
    "# removing outliers\n",
    "telemetry = telemetry[(telemetry['Speed'] < 350) & (telemetry['RPM'] < 15000)]"
   ]
  },
  {
   "cell_type": "code",
   "execution_count": 22,
   "id": "8783cb6d-f53e-4fe6-beef-b21df364dd13",
   "metadata": {},
   "outputs": [],
   "source": [
    "# matching times in weather data\n",
    "weather['Time'] = pd.to_timedelta(weather['Time'])"
   ]
  },
  {
   "cell_type": "code",
   "execution_count": 25,
   "id": "909cf800-686c-4333-aafa-e5d04d622461",
   "metadata": {},
   "outputs": [
    {
     "data": {
      "text/plain": [
       "0       True\n",
       "1       True\n",
       "2       True\n",
       "3       True\n",
       "4       True\n",
       "       ...  \n",
       "156    False\n",
       "157    False\n",
       "158    False\n",
       "159    False\n",
       "160    False\n",
       "Name: Rainfall, Length: 161, dtype: bool"
      ]
     },
     "execution_count": 25,
     "metadata": {},
     "output_type": "execute_result"
    }
   ],
   "source": [
    "# missing values\n",
    "weather['AirTemp'].fillna(weather['AirTemp'].mean())\n",
    "weather['Humidity'].fillna(weather['Humidity'].mean())\n",
    "weather['Pressure'].fillna(weather['Pressure'].mean())\n",
    "weather['Rainfall'].fillna(False)"
   ]
  },
  {
   "cell_type": "code",
   "execution_count": 26,
   "id": "f83927cf-09d2-40c5-85bf-ac2578c8afba",
   "metadata": {},
   "outputs": [],
   "source": [
    "# consecutive rainfall grouped as one rainfall period\n",
    "weather['Rainfall'] = weather['Rainfall'].astype(bool)\n",
    "weather['RainPeriod'] = (weather['Rainfall'] != weather['Rainfall'].shift()).cumsum()"
   ]
  },
  {
   "cell_type": "code",
   "execution_count": 27,
   "id": "e69e8b5e-7e22-4cf0-9342-627398b30628",
   "metadata": {},
   "outputs": [],
   "source": [
    "# forward fill for missing vals\n",
    "weather[['AirTemp', 'TrackTemp', 'Pressure']] = weather[['AirTemp', 'TrackTemp', 'Pressure']].ffill()"
   ]
  },
  {
   "cell_type": "code",
   "execution_count": 28,
   "id": "b46bfba3-e571-42c1-9dcc-cac51b71e598",
   "metadata": {},
   "outputs": [
    {
     "name": "stdout",
     "output_type": "stream",
     "text": [
      "Cleaned Laps Data:\n",
      "                    Time Driver DriverNumber                LapTime  \\\n",
      "0 0 days 00:35:09.853000    GAS           10 0 days 00:01:54.003000   \n",
      "1 0 days 00:37:32.883000    GAS           10 0 days 00:02:23.030000   \n",
      "2 0 days 00:39:53.731000    GAS           10 0 days 00:02:20.848000   \n",
      "3 0 days 00:42:18.428000    GAS           10 0 days 00:02:24.697000   \n",
      "4 0 days 00:44:42.360000    GAS           10 0 days 00:02:23.932000   \n",
      "\n",
      "   LapNumber  Stint                PitOutTime                 PitInTime  \\\n",
      "0        1.0    1.0 0 days 01:33:59.584228070 0 days 01:28:05.076684210   \n",
      "1        2.0    1.0 0 days 01:33:59.584228070 0 days 01:28:05.076684210   \n",
      "2        3.0    1.0 0 days 01:33:59.584228070 0 days 01:28:05.076684210   \n",
      "3        4.0    1.0 0 days 01:33:59.584228070 0 days 01:28:05.076684210   \n",
      "4        5.0    1.0 0 days 01:33:59.584228070 0 days 01:28:05.076684210   \n",
      "\n",
      "             Sector1Time            Sector2Time  ... FreshTyre        Team  \\\n",
      "0                    NaT 0 days 00:00:37.569000  ...      True  AlphaTauri   \n",
      "1 0 days 00:00:43.289000 0 days 00:00:51.176000  ...      True  AlphaTauri   \n",
      "2 0 days 00:00:42.977000 0 days 00:00:51.004000  ...      True  AlphaTauri   \n",
      "3 0 days 00:00:42.573000 0 days 00:00:53.772000  ...      True  AlphaTauri   \n",
      "4 0 days 00:00:41.394000 0 days 00:00:54.989000  ...      True  AlphaTauri   \n",
      "\n",
      "            LapStartTime            LapStartDate  TrackStatus  Position  \\\n",
      "0 0 days 00:33:15.688000 2021-04-18 13:03:15.707          NaN       7.0   \n",
      "1 0 days 00:35:09.853000 2021-04-18 13:05:09.872          NaN       6.0   \n",
      "2 0 days 00:37:32.883000 2021-04-18 13:07:32.902          NaN       6.0   \n",
      "3 0 days 00:39:53.731000 2021-04-18 13:09:53.750          NaN       6.0   \n",
      "4 0 days 00:42:18.428000 2021-04-18 13:12:18.447          NaN       6.0   \n",
      "\n",
      "   Deleted  DeletedReason FastF1Generated IsAccurate  \n",
      "0    False                          False      False  \n",
      "1    False                          False      False  \n",
      "2    False                          False      False  \n",
      "3    False                          False      False  \n",
      "4    False                          False      False  \n",
      "\n",
      "[5 rows x 31 columns]\n",
      "\n",
      "Cleaned Telemetry Data:\n",
      "                     Date            SessionTime DriverAhead  \\\n",
      "2 2021-04-18 15:01:00.117 0 days 02:31:00.098000               \n",
      "3 2021-04-18 15:01:00.155 0 days 02:31:00.136000               \n",
      "4 2021-04-18 15:01:00.176 0 days 02:31:00.157000               \n",
      "5 2021-04-18 15:01:00.395 0 days 02:31:00.376000           4   \n",
      "6 2021-04-18 15:01:00.396 0 days 02:31:00.377000           4   \n",
      "\n",
      "   DistanceToDriverAhead                   Time    RPM  Speed  nGear  \\\n",
      "2              53.140556        0 days 00:00:00  10901    294      7   \n",
      "3              53.140556 0 days 00:00:00.038000  10594    295      8   \n",
      "4              53.140556 0 days 00:00:00.059000  10620    296      8   \n",
      "5              53.140556 0 days 00:00:00.278000  10646    298      8   \n",
      "6              52.918333 0 days 00:00:00.279000  10689    298      8   \n",
      "\n",
      "   Throttle  Brake  DRS         Source   Distance  RelativeDistance   Status  \\\n",
      "2       100  False   12  interpolation   0.096917          0.000020  OnTrack   \n",
      "3       100  False   12            car   3.226111          0.000657  OnTrack   \n",
      "4       100  False   12            pos   4.957851          0.001009  OnTrack   \n",
      "5       100  False   12            car  23.092778          0.004702  OnTrack   \n",
      "6       100  False   12            pos  23.175661          0.004719  OnTrack   \n",
      "\n",
      "             X            Y           Z  \n",
      "2 -1367.193591 -1596.850025  784.892570  \n",
      "3 -1393.380826 -1598.141785  784.951528  \n",
      "4 -1409.000000 -1599.000000  785.000000  \n",
      "5 -1605.114899 -1611.944771  785.995191  \n",
      "6 -1606.000000 -1612.000000  786.000000  \n",
      "\n",
      "Cleaned Weather Data:\n",
      "                    Time  AirTemp  Humidity  Pressure  Rainfall  TrackTemp  \\\n",
      "0 0 days 00:00:41.291000      9.8      68.7    1011.7      True       18.1   \n",
      "1 0 days 00:01:41.287000      9.7      70.0    1011.6      True       18.1   \n",
      "2 0 days 00:02:41.294000      9.6      69.2    1011.6      True       18.0   \n",
      "3 0 days 00:03:41.289000      9.4      68.3    1011.6      True       17.7   \n",
      "4 0 days 00:04:41.288000      9.3      67.9    1011.7      True       17.6   \n",
      "\n",
      "   WindDirection  WindSpeed  RainPeriod  \n",
      "0             61        0.2           1  \n",
      "1            261        0.1           1  \n",
      "2            243        0.4           1  \n",
      "3            250        0.4           1  \n",
      "4            259        0.5           1  \n"
     ]
    }
   ],
   "source": [
    "print(\"Cleaned Laps Data:\")\n",
    "print(laps.head())\n",
    "print(\"\\nCleaned Telemetry Data:\")\n",
    "print(telemetry.head())\n",
    "print(\"\\nCleaned Weather Data:\")\n",
    "print(weather.head())"
   ]
  }
 ],
 "metadata": {
  "kernelspec": {
   "display_name": "Python 3 (ipykernel)",
   "language": "python",
   "name": "python3"
  },
  "language_info": {
   "codemirror_mode": {
    "name": "ipython",
    "version": 3
   },
   "file_extension": ".py",
   "mimetype": "text/x-python",
   "name": "python",
   "nbconvert_exporter": "python",
   "pygments_lexer": "ipython3",
   "version": "3.11.9"
  }
 },
 "nbformat": 4,
 "nbformat_minor": 5
}
