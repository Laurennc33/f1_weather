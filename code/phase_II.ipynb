{
 "cells": [
  {
   "cell_type": "markdown",
   "id": "40ed5ba6-2c00-4f74-886d-ab9fa360bb67",
   "metadata": {},
   "source": [
    "# Phase II: Data Curation, Exploratory Analysis and Plotting (5\\%)\n",
    "\n",
    "### Group Members: Lauren Cummings, Riyana Roy, Satvik Repaka, Justin Huang\n",
    "\n",
    "#### Due (Each Group): October 25\n",
    "\n",
    "Each **project group** will submit a single **jupyter notebook** which contains:\n",
    "\n",
    "1. (1\\%) Expresses the central motivation of the project and explains the (at least) two key questions to be explored. Gives a summary of the data processing pipeline so a technical expert can easily follow along.\n",
    "2. (2\\%) Obtains, cleans, and merges all data sources involved in the project.\n",
    "3. (2\\%) Builds at least two visualizations (graphs/plots) from the data which help to understand or answer the questions of interest. These visualizations will be graded based on how much information they can effectively communicate to readers. Please make sure your visualization are sufficiently distinct from each other."
   ]
  },
  {
   "cell_type": "markdown",
   "id": "1c7107fe-b128-44b6-8c17-61b2795e72cc",
   "metadata": {},
   "source": [
    "# Project Details"
   ]
  },
  {
   "cell_type": "markdown",
   "id": "9effb698-4908-46f0-98eb-e708d64bbd1e",
   "metadata": {},
   "source": [
    "### **Central Motivation**  \n",
    "This project aims to understand how tire strategy and weather conditions influence race outcomes. By analyzing these factors together, we aim to gain insights into how teams optimize performance and make decisions under changing conditions.\n",
    "\n",
    "---\n",
    "\n",
    "### **Key Questions:**  \n",
    "1. How does tire strategy impact driver performance and race outcomes under varying weather conditions? \n",
    "2. How do changing weather conditions influence pit stop timing and tire choices throughout the race?\n",
    "\n",
    "---\n",
    "\n",
    "### **Data Processing Overview:**  \n",
    "\n",
    "1. **Data Ingestion**: Collect data from race sessions, including event logs, telemetry, and weather data.  \n",
    "\n",
    "2. **Preprocessing**:  \n",
    "   - **Laps Data:**  \n",
    "     - Fill missing pit stop times.  \n",
    "     - Remove deleted or inaccurate laps.  \n",
    "     - Map track statuses to meaningful labels (e.g, Safety Car, Yellow Flag).  \n",
    "\n",
    "   - **Telemetry Data:**    \n",
    "     - Remove outliers in speed, RPM, and gears.  \n",
    "\n",
    "   - **Weather Data:**  \n",
    "     - Align weather timestamps with lap data for consistency.  \n",
    "     - Filter out unrealistic wind speed values.  \n",
    "     - Group consecutive rainfall events into a single rain period.  \n",
    "     - Fill missing temperature and pressure values using forward filling.\n",
    "\n",
    "\n",
    "3. **Exploratory Data Analysis (EDA)**: Visualize strategy patterns and weather impacts.  \n",
    "4. **Modeling/Analysis**: Apply statistical methods to find relationships between tires, weather, and strategy.  \n",
    "5. **Reporting**: Write report to answer the key questions.  \n",
    "\n"
   ]
  },
  {
   "cell_type": "markdown",
   "id": "4f865bc9-63c2-44e6-82b5-dafe11a4595c",
   "metadata": {},
   "source": [
    "# Imported Libraries"
   ]
  },
  {
   "cell_type": "code",
   "execution_count": 18,
   "id": "577d745a-9c34-49bd-9660-5ec79ad720d3",
   "metadata": {},
   "outputs": [],
   "source": [
    "import os\n",
    "import fastf1\n",
    "import logging\n",
    "import pandas as pd\n",
    "import plotly.graph_objects as go\n",
    "import plotly.express as px"
   ]
  },
  {
   "cell_type": "markdown",
   "id": "57bf844b-ae8f-4f60-935c-ef8f38e6df8f",
   "metadata": {},
   "source": [
    "# Data Retrieval"
   ]
  },
  {
   "cell_type": "code",
   "execution_count": 19,
   "id": "9fb20318-e3a8-43fa-ba3f-60f5d0ec9497",
   "metadata": {
    "scrolled": true
   },
   "outputs": [
    {
     "name": "stdout",
     "output_type": "stream",
     "text": [
      "Laps Data:\n",
      "                    Time Driver DriverNumber                LapTime  \\\n",
      "0 0 days 00:35:09.853000    GAS           10 0 days 00:01:54.003000   \n",
      "1 0 days 00:37:32.883000    GAS           10 0 days 00:02:23.030000   \n",
      "2 0 days 00:39:53.731000    GAS           10 0 days 00:02:20.848000   \n",
      "3 0 days 00:42:18.428000    GAS           10 0 days 00:02:24.697000   \n",
      "4 0 days 00:44:42.360000    GAS           10 0 days 00:02:23.932000   \n",
      "\n",
      "   LapNumber  Stint PitOutTime PitInTime            Sector1Time  \\\n",
      "0        1.0    1.0        NaT       NaT                    NaT   \n",
      "1        2.0    1.0        NaT       NaT 0 days 00:00:43.289000   \n",
      "2        3.0    1.0        NaT       NaT 0 days 00:00:42.977000   \n",
      "3        4.0    1.0        NaT       NaT 0 days 00:00:42.573000   \n",
      "4        5.0    1.0        NaT       NaT 0 days 00:00:41.394000   \n",
      "\n",
      "             Sector2Time            Sector3Time     Sector1SessionTime  \\\n",
      "0 0 days 00:00:37.569000 0 days 00:00:36.794000                    NaT   \n",
      "1 0 days 00:00:51.176000 0 days 00:00:48.565000 0 days 00:35:53.129000   \n",
      "2 0 days 00:00:51.004000 0 days 00:00:46.867000 0 days 00:38:15.847000   \n",
      "3 0 days 00:00:53.772000 0 days 00:00:48.352000 0 days 00:40:36.291000   \n",
      "4 0 days 00:00:54.989000 0 days 00:00:47.549000 0 days 00:42:59.809000   \n",
      "\n",
      "      Sector2SessionTime     Sector3SessionTime  SpeedI1  SpeedI2  SpeedFL  \\\n",
      "0 0 days 00:34:33.082000 0 days 00:35:09.993000    167.0    234.0    217.0   \n",
      "1 0 days 00:36:44.305000 0 days 00:37:32.870000    164.0     66.0    123.0   \n",
      "2 0 days 00:39:06.851000 0 days 00:39:53.718000    169.0     78.0    161.0   \n",
      "3 0 days 00:41:30.063000 0 days 00:42:18.415000    134.0     72.0    160.0   \n",
      "4 0 days 00:43:54.798000 0 days 00:44:42.347000    166.0     92.0    135.0   \n",
      "\n",
      "   SpeedST IsPersonalBest Compound  TyreLife  FreshTyre        Team  \\\n",
      "0    214.0          False      WET       1.0       True  AlphaTauri   \n",
      "1    161.0           True      WET       2.0       True  AlphaTauri   \n",
      "2    154.0           True      WET       3.0       True  AlphaTauri   \n",
      "3    148.0          False      WET       4.0       True  AlphaTauri   \n",
      "4    150.0          False      WET       5.0       True  AlphaTauri   \n",
      "\n",
      "            LapStartTime            LapStartDate TrackStatus  Position  \\\n",
      "0 0 days 00:33:15.688000 2021-04-18 13:03:15.707         124       7.0   \n",
      "1 0 days 00:35:09.853000 2021-04-18 13:05:09.872           4       6.0   \n",
      "2 0 days 00:37:32.883000 2021-04-18 13:07:32.902           4       6.0   \n",
      "3 0 days 00:39:53.731000 2021-04-18 13:09:53.750           4       6.0   \n",
      "4 0 days 00:42:18.428000 2021-04-18 13:12:18.447           4       6.0   \n",
      "\n",
      "   Deleted DeletedReason  FastF1Generated  IsAccurate  \n",
      "0    False                          False       False  \n",
      "1    False                          False       False  \n",
      "2    False                          False       False  \n",
      "3    False                          False       False  \n",
      "4    False                          False       False  \n",
      "\n",
      "Telemetry Data:\n",
      "                     Date            SessionTime DriverAhead  \\\n",
      "2 2021-04-18 15:01:00.117 0 days 02:31:00.098000               \n",
      "3 2021-04-18 15:01:00.155 0 days 02:31:00.136000               \n",
      "4 2021-04-18 15:01:00.176 0 days 02:31:00.157000               \n",
      "5 2021-04-18 15:01:00.395 0 days 02:31:00.376000           4   \n",
      "6 2021-04-18 15:01:00.396 0 days 02:31:00.377000           4   \n",
      "\n",
      "   DistanceToDriverAhead                   Time    RPM  Speed  nGear  \\\n",
      "2              53.140556        0 days 00:00:00  10901    294      7   \n",
      "3              53.140556 0 days 00:00:00.038000  10594    295      8   \n",
      "4              53.140556 0 days 00:00:00.059000  10620    296      8   \n",
      "5              53.140556 0 days 00:00:00.278000  10646    298      8   \n",
      "6              52.918333 0 days 00:00:00.279000  10689    298      8   \n",
      "\n",
      "   Throttle  Brake  DRS         Source   Distance  RelativeDistance   Status  \\\n",
      "2       100  False   12  interpolation   0.096917          0.000020  OnTrack   \n",
      "3       100  False   12            car   3.226111          0.000657  OnTrack   \n",
      "4       100  False   12            pos   4.957851          0.001009  OnTrack   \n",
      "5       100  False   12            car  23.092778          0.004702  OnTrack   \n",
      "6       100  False   12            pos  23.175661          0.004719  OnTrack   \n",
      "\n",
      "             X            Y           Z  \n",
      "2 -1367.193591 -1596.850025  784.892570  \n",
      "3 -1393.380826 -1598.141785  784.951528  \n",
      "4 -1409.000000 -1599.000000  785.000000  \n",
      "5 -1605.114899 -1611.944771  785.995191  \n",
      "6 -1606.000000 -1612.000000  786.000000  \n",
      "\n",
      "Weather Data:\n",
      "                    Time  AirTemp  Humidity  Pressure  Rainfall  TrackTemp  \\\n",
      "0 0 days 00:00:41.291000      9.8      68.7    1011.7      True       18.1   \n",
      "1 0 days 00:01:41.287000      9.7      70.0    1011.6      True       18.1   \n",
      "2 0 days 00:02:41.294000      9.6      69.2    1011.6      True       18.0   \n",
      "3 0 days 00:03:41.289000      9.4      68.3    1011.6      True       17.7   \n",
      "4 0 days 00:04:41.288000      9.3      67.9    1011.7      True       17.6   \n",
      "\n",
      "   WindDirection  WindSpeed  \n",
      "0             61        0.2  \n",
      "1            261        0.1  \n",
      "2            243        0.4  \n",
      "3            250        0.4  \n",
      "4            259        0.5  \n"
     ]
    }
   ],
   "source": [
    "# Create the directory if it doesn't exist\n",
    "if not os.path.exists('cache'):\n",
    "    os.makedirs('cache')\n",
    "\n",
    "# Enable cache \n",
    "fastf1.Cache.enable_cache('cache')\n",
    "\n",
    "# Suppress INFO and WARNING messages\n",
    "logging.getLogger('fastf1').setLevel(logging.ERROR)\n",
    "\n",
    "# Load session data\n",
    "session = fastf1.get_session(2021, 'Imola', 'R')\n",
    "session.load()\n",
    "\n",
    "# Extract data\n",
    "laps = session.laps\n",
    "print(\"Laps Data:\")\n",
    "with pd.option_context('display.max_rows', None, 'display.max_columns', None):\n",
    "    print(laps.head())  # Print all columns for the first few rows\n",
    "\n",
    "fastest_lap = laps.pick_fastest()\n",
    "telemetry = fastest_lap.get_telemetry()\n",
    "print(\"\\nTelemetry Data:\")\n",
    "with pd.option_context('display.max_rows', None, 'display.max_columns', None):\n",
    "    print(telemetry.head())  # Print all columns for the first few rows\n",
    "\n",
    "weather = session.weather_data\n",
    "print(\"\\nWeather Data:\")\n",
    "with pd.option_context('display.max_rows', None, 'display.max_columns', None):\n",
    "    print(weather.head())  # Print all columns for the first few rows\n"
   ]
  },
  {
   "cell_type": "markdown",
   "id": "48e93ba6-3c57-44d6-a9c5-28c6a69ebe28",
   "metadata": {},
   "source": [
    "# Data Cleaning"
   ]
  },
  {
   "cell_type": "code",
   "execution_count": 20,
   "id": "fcaf8245-6793-40b7-b135-254272f25351",
   "metadata": {},
   "outputs": [
    {
     "name": "stdout",
     "output_type": "stream",
     "text": [
      "Pit Stop Lap Numbers: [14.0, 26.0, 32.0, 33.0, 28.0, 33.0, 28.0, 32.0, 33.0, 28.0, 33.0, 27.0, 32.0, 33.0, 25.0, 32.0, 33.0, 27.0, 33.0, 1.0, 27.0, 31.0, 32.0, 33.0, 27.0, 33.0, 28.0, 33.0, 28.0, 31.0, 32.0, 33.0, 5.0, 21.0, 31.0, 32.0, 3.0, 20.0, 22.0, 32.0, 33.0, 61.0, 27.0, 33.0, 26.0, 26.0, 32.0, 33.0, 28.0, 12.0, 23.0, 31.0, 32.0, 27.0, 32.0, 33.0, 40.0]\n"
     ]
    }
   ],
   "source": [
    "# Clean Laps Data\n",
    "# Convert date columns to datetime\n",
    "for col in ['LapStartTime', 'LapStartDate']:\n",
    "    if laps[col].dtype == 'object':\n",
    "        laps[col] = pd.to_datetime(laps[col])\n",
    "\n",
    "# Identify pit stops\n",
    "laps['Pitted'] = laps['PitInTime'].notna()\n",
    "\n",
    "# Adjust PitInTime and PitOutTime: Set to NaN for laps without a pit stop\n",
    "laps['PitInTime'] = laps['PitInTime'].where(laps['Pitted'], pd.NaT)\n",
    "laps['PitOutTime'] = laps['PitOutTime'].where(laps['Pitted'], pd.NaT)\n",
    "\n",
    "# Extract and display pit stop laps\n",
    "pit_laps = laps[laps['Pitted']]\n",
    "pit_lap_numbers = pit_laps['LapNumber'].tolist()\n",
    "print(f\"Pit Stop Lap Numbers: {pit_lap_numbers}\")\n",
    "\n",
    "# Remove inaccurate laps\n",
    "laps = laps[laps['Deleted'] == False]"
   ]
  },
  {
   "cell_type": "code",
   "execution_count": 21,
   "id": "88fda96c-10a1-4cca-8be0-0af4fffef098",
   "metadata": {},
   "outputs": [
    {
     "name": "stderr",
     "output_type": "stream",
     "text": [
      "/var/folders/qm/kb15jq7d5kvf69_hpz651m1h0000gn/T/ipykernel_48308/4128003917.py:13: FutureWarning:\n",
      "\n",
      "Series.fillna with 'method' is deprecated and will raise in a future version. Use obj.ffill() or obj.bfill() instead.\n",
      "\n",
      "/var/folders/qm/kb15jq7d5kvf69_hpz651m1h0000gn/T/ipykernel_48308/4128003917.py:14: FutureWarning:\n",
      "\n",
      "Series.fillna with 'method' is deprecated and will raise in a future version. Use obj.ffill() or obj.bfill() instead.\n",
      "\n"
     ]
    }
   ],
   "source": [
    "# Clean Telemetry Data\n",
    "telemetry = session.laps.pick_fastest().get_telemetry()\n",
    "\n",
    "# Remove outliers based on speed and RPM\n",
    "telemetry = telemetry[(telemetry['Speed'] < 350) & (telemetry['RPM'] < 15000)]\n",
    "\n",
    "# Convert session time to timedelta\n",
    "telemetry['SessionTime'] = pd.to_timedelta(telemetry['SessionTime'])\n",
    "if telemetry['Date'].dtype == 'object':\n",
    "    telemetry['Date'] = pd.to_datetime(telemetry['Date'])\n",
    "\n",
    "# Fill missing values in telemetry data\n",
    "telemetry['RPM'].fillna(method='ffill', inplace=True)  # Use forward fill to replace missing values\n",
    "telemetry['Speed'].fillna(method='ffill', inplace=True)  # Use forward fill to replace missing values"
   ]
  },
  {
   "cell_type": "code",
   "execution_count": 22,
   "id": "b662fcf3-d94b-4852-9229-bb3673a14274",
   "metadata": {},
   "outputs": [],
   "source": [
    "# Clean Weather Data\n",
    "weather = session.weather_data\n",
    "\n",
    "# Convert weather time to timedelta\n",
    "weather['Time'] = pd.to_timedelta(weather['Time'])\n",
    "\n",
    "# Do not fill missing values for weather measurements\n",
    "# Just keep them as NaN\n",
    "# Replace any missing values with NaN (pandas already uses NaN by default for missing values)\n",
    "weather['AirTemp'] = weather['AirTemp'].where(weather['AirTemp'].notna(), other=pd.NA)\n",
    "weather['Humidity'] = weather['Humidity'].where(weather['Humidity'].notna(), other=pd.NA)\n",
    "weather['Pressure'] = weather['Pressure'].where(weather['Pressure'].notna(), other=pd.NA)\n",
    "\n",
    "# Handle rainfall data\n",
    "weather['Rainfall'].fillna(False, inplace=True)  # Assuming rainfall can be False if unknown\n",
    "weather['Rainfall'] = weather['Rainfall'].astype(bool)\n",
    "weather['RainPeriod'] = (weather['Rainfall'] != weather['Rainfall'].shift()).cumsum()\n",
    "\n",
    "# Forward fill for missing weather values except AirTemp, Humidity, and Pressure\n",
    "weather[['TrackTemp']] = weather[['TrackTemp']].ffill()  # Forward fill for TrackTemp only"
   ]
  },
  {
   "cell_type": "code",
   "execution_count": 23,
   "id": "b4f07b9e-1262-4cd7-ac6f-4f345dbbb7ea",
   "metadata": {},
   "outputs": [
    {
     "name": "stderr",
     "output_type": "stream",
     "text": [
      "/var/folders/qm/kb15jq7d5kvf69_hpz651m1h0000gn/T/ipykernel_48308/1439948037.py:10: SettingWithCopyWarning:\n",
      "\n",
      "\n",
      "A value is trying to be set on a copy of a slice from a DataFrame.\n",
      "Try using .loc[row_indexer,col_indexer] = value instead\n",
      "\n",
      "See the caveats in the documentation: https://pandas.pydata.org/pandas-docs/stable/user_guide/indexing.html#returning-a-view-versus-a-copy\n",
      "\n"
     ]
    }
   ],
   "source": [
    "# Adjust Track Status Labels\n",
    "track_status_mapping = {\n",
    "    0: 'Green', \n",
    "    1: 'Yellow Flag', \n",
    "    2: 'Red Flag', \n",
    "    3: 'Safety Car', \n",
    "    4: 'Virtual Safety Car'\n",
    "}\n",
    "if 'TrackStatus' in laps.columns:\n",
    "    laps['TrackStatus'] = laps['TrackStatus'].map(track_status_mapping)"
   ]
  },
  {
   "cell_type": "code",
   "execution_count": 24,
   "id": "89536d28-7014-4722-818e-18a10c9020d6",
   "metadata": {},
   "outputs": [],
   "source": [
    "#Align Weather Data with Laps Data\n",
    "# Merge laps and weather data on time\n",
    "cleaned_data = pd.merge_asof(\n",
    "    laps.sort_values('Time'),\n",
    "    weather.sort_values('Time'),\n",
    "    left_on='Time',  # Align based on lap start time\n",
    "    right_on='Time',         # Align based on weather time\n",
    "    # Use previous weather data for the lap\n",
    ")"
   ]
  },
  {
   "cell_type": "code",
   "execution_count": 25,
   "id": "cc0608d5-b54e-453c-b427-7fea96148bdc",
   "metadata": {
    "scrolled": true
   },
   "outputs": [
    {
     "name": "stdout",
     "output_type": "stream",
     "text": [
      "Index(['Time', 'Driver', 'DriverNumber', 'LapTime', 'LapNumber', 'Stint',\n",
      "       'PitOutTime', 'PitInTime', 'Sector1Time', 'Sector2Time', 'Sector3Time',\n",
      "       'Sector1SessionTime', 'Sector2SessionTime', 'Sector3SessionTime',\n",
      "       'SpeedI1', 'SpeedI2', 'SpeedFL', 'SpeedST', 'IsPersonalBest',\n",
      "       'Compound', 'TyreLife', 'FreshTyre', 'Team', 'LapStartTime',\n",
      "       'LapStartDate', 'TrackStatus', 'Position', 'Deleted', 'DeletedReason',\n",
      "       'FastF1Generated', 'IsAccurate', 'Pitted', 'AirTemp', 'Humidity',\n",
      "       'Pressure', 'Rainfall', 'TrackTemp', 'WindDirection', 'WindSpeed',\n",
      "       'RainPeriod'],\n",
      "      dtype='object')\n"
     ]
    }
   ],
   "source": [
    "# Print only the column names of the aligned data\n",
    "print(cleaned_data.columns)"
   ]
  },
  {
   "cell_type": "code",
   "execution_count": 26,
   "id": "119f762c-6fa1-4e63-8c28-3150f7472dd9",
   "metadata": {},
   "outputs": [
    {
     "name": "stdout",
     "output_type": "stream",
     "text": [
      "# of NaN values per column:\n",
      "Time: 0\n",
      "Driver: 0\n",
      "DriverNumber: 0\n",
      "LapTime: 33\n",
      "LapNumber: 0\n",
      "Stint: 0\n",
      "PitOutTime: 1106\n",
      "PitInTime: 1062\n",
      "Sector1Time: 40\n",
      "Sector2Time: 4\n",
      "Sector3Time: 4\n",
      "Sector1SessionTime: 42\n",
      "Sector2SessionTime: 4\n",
      "Sector3SessionTime: 4\n",
      "SpeedI1: 116\n",
      "SpeedI2: 4\n",
      "SpeedFL: 60\n",
      "SpeedST: 3\n",
      "IsPersonalBest: 2\n",
      "Compound: 0\n",
      "TyreLife: 0\n",
      "FreshTyre: 0\n",
      "Team: 0\n",
      "LapStartTime: 0\n",
      "LapStartDate: 2\n",
      "TrackStatus: 1119\n",
      "Position: 3\n",
      "Deleted: 0\n",
      "DeletedReason: 2\n",
      "FastF1Generated: 0\n",
      "IsAccurate: 0\n",
      "Pitted: 0\n",
      "AirTemp: 0\n",
      "Humidity: 0\n",
      "Pressure: 0\n",
      "Rainfall: 0\n",
      "TrackTemp: 0\n",
      "WindDirection: 0\n",
      "WindSpeed: 0\n",
      "RainPeriod: 0\n"
     ]
    }
   ],
   "source": [
    "# count nan values in each column and print results\n",
    "nan_counts = cleaned_data.isna().sum()\n",
    "\n",
    "print(\"# of NaN values per column:\")\n",
    "for column, count in nan_counts.items():\n",
    "    print(f\"{column}: {count}\")"
   ]
  },
  {
   "cell_type": "code",
   "execution_count": 27,
   "id": "6c4e5993-b22c-4565-a967-832cdf02383f",
   "metadata": {},
   "outputs": [],
   "source": [
    "# removing columns we do not need for further analysis\n",
    "drop_cols = ['IsPersonalBest','DeletedReason']\n",
    "aligned_data = cleaned_data.drop(columns = drop_cols)"
   ]
  },
  {
   "cell_type": "code",
   "execution_count": 28,
   "id": "582b8f46-7e47-44ee-9214-b44e7b10799f",
   "metadata": {},
   "outputs": [
    {
     "name": "stdout",
     "output_type": "stream",
     "text": [
      "Cleaned Aligned Data (Laps + Weather):\n",
      "                    Time Driver DriverNumber                LapTime  \\\n",
      "0 0 days 00:34:54.453000    VER           33 0 days 00:01:38.603000   \n",
      "1 0 days 00:34:54.453000    LAT            6                    NaT   \n",
      "2 0 days 00:34:58.422000    HAM           44 0 days 00:01:42.572000   \n",
      "3 0 days 00:35:03.048000    LEC           16 0 days 00:01:47.198000   \n",
      "4 0 days 00:35:03.664000    PER           11 0 days 00:01:47.814000   \n",
      "\n",
      "   LapNumber  Stint PitOutTime PitInTime Sector1Time            Sector2Time  \\\n",
      "0        1.0    1.0        NaT       NaT         NaT 0 days 00:00:32.907000   \n",
      "1        1.0    1.0        NaT       NaT         NaT                    NaT   \n",
      "2        1.0    1.0        NaT       NaT         NaT 0 days 00:00:34.735000   \n",
      "3        1.0    1.0        NaT       NaT         NaT 0 days 00:00:36.228000   \n",
      "4        1.0    1.0        NaT       NaT         NaT 0 days 00:00:36.128000   \n",
      "\n",
      "             Sector3Time Sector1SessionTime     Sector2SessionTime  \\\n",
      "0 0 days 00:00:32.116000                NaT 0 days 00:34:22.387000   \n",
      "1                    NaT                NaT                    NaT   \n",
      "2 0 days 00:00:32.308000                NaT 0 days 00:34:26.154000   \n",
      "3 0 days 00:00:33.851000                NaT 0 days 00:34:29.276000   \n",
      "4 0 days 00:00:35.143000                NaT 0 days 00:34:28.593000   \n",
      "\n",
      "      Sector3SessionTime  SpeedI1  SpeedI2  SpeedFL  SpeedST      Compound  \\\n",
      "0 0 days 00:34:54.922000    194.0    239.0    260.0    240.0  INTERMEDIATE   \n",
      "1                    NaT      NaN      NaN      NaN      NaN  INTERMEDIATE   \n",
      "2 0 days 00:34:58.598000    187.0    237.0    196.0    256.0  INTERMEDIATE   \n",
      "3 0 days 00:35:03.215000    187.0    238.0    172.0    253.0  INTERMEDIATE   \n",
      "4 0 days 00:35:03.775000    176.0    233.0    195.0    216.0  INTERMEDIATE   \n",
      "\n",
      "   TyreLife  FreshTyre             Team           LapStartTime  \\\n",
      "0       1.0       True  Red Bull Racing 0 days 00:33:15.688000   \n",
      "1       1.0       True         Williams 0 days 00:33:15.688000   \n",
      "2       1.0       True         Mercedes 0 days 00:33:15.688000   \n",
      "3       1.0       True          Ferrari 0 days 00:33:15.688000   \n",
      "4       1.0       True  Red Bull Racing 0 days 00:33:15.688000   \n",
      "\n",
      "             LapStartDate TrackStatus  Position  Deleted  FastF1Generated  \\\n",
      "0 2021-04-18 13:03:15.707         NaN       1.0    False            False   \n",
      "1 2021-04-18 13:03:15.707         NaN       NaN    False             True   \n",
      "2 2021-04-18 13:03:15.707         NaN       3.0    False            False   \n",
      "3 2021-04-18 13:03:15.707         NaN       4.0    False            False   \n",
      "4 2021-04-18 13:03:15.707         NaN       5.0    False            False   \n",
      "\n",
      "   IsAccurate  Pitted  AirTemp  Humidity  Pressure  Rainfall  TrackTemp  \\\n",
      "0       False   False      9.6      75.4    1011.5      True       17.3   \n",
      "1       False   False      9.6      75.4    1011.5      True       17.3   \n",
      "2       False   False      9.6      75.4    1011.5      True       17.3   \n",
      "3       False   False      9.6      75.4    1011.5      True       17.3   \n",
      "4       False   False      9.6      75.4    1011.5      True       17.3   \n",
      "\n",
      "   WindDirection  WindSpeed  RainPeriod  \n",
      "0            203        0.2           1  \n",
      "1            203        0.2           1  \n",
      "2            203        0.2           1  \n",
      "3            203        0.2           1  \n",
      "4            203        0.2           1  \n"
     ]
    }
   ],
   "source": [
    "# Ensure all columns are printed without truncation\n",
    "with pd.option_context('display.max_rows', None, 'display.max_columns', None):\n",
    "    print(\"Cleaned Aligned Data (Laps + Weather):\")\n",
    "    print(aligned_data.head())\n"
   ]
  },
  {
   "cell_type": "markdown",
   "id": "294ca624-85e1-470f-9c1b-6c79845ae8c6",
   "metadata": {},
   "source": [
    "## Graphs"
   ]
  },
  {
   "cell_type": "code",
   "execution_count": 29,
   "id": "68b9ee85-e7e3-4c59-9813-4b95aa6d4af3",
   "metadata": {},
   "outputs": [
    {
     "data": {
      "application/vnd.plotly.v1+json": {
       "config": {
        "plotlyServerURL": "https://plot.ly"
       },
       "data": [
        {
         "alignmentgroup": "True",
         "hovertemplate": "Rain Period=1<br>Rainfall=True<br>Compound=%{x}<br>Count=%{y}<extra></extra>",
         "legendgroup": "1",
         "marker": {
          "color": "rgb(102,194,165)",
          "pattern": {
           "shape": ""
          }
         },
         "name": "1",
         "offsetgroup": "1",
         "orientation": "v",
         "showlegend": true,
         "textposition": "auto",
         "type": "bar",
         "x": [
          "INTERMEDIATE",
          "WET"
         ],
         "xaxis": "x2",
         "y": [
          260,
          32
         ],
         "yaxis": "y2"
        },
        {
         "alignmentgroup": "True",
         "hovertemplate": "Rain Period=2<br>Rainfall=False<br>Compound=%{x}<br>Count=%{y}<extra></extra>",
         "legendgroup": "2",
         "marker": {
          "color": "rgb(252,141,98)",
          "pattern": {
           "shape": ""
          }
         },
         "name": "2",
         "offsetgroup": "2",
         "orientation": "v",
         "showlegend": true,
         "textposition": "auto",
         "type": "bar",
         "x": [
          "INTERMEDIATE",
          "MEDIUM",
          "SOFT"
         ],
         "xaxis": "x",
         "y": [
          206,
          256,
          83
         ],
         "yaxis": "y"
        },
        {
         "alignmentgroup": "True",
         "hovertemplate": "Rain Period=3<br>Rainfall=True<br>Compound=%{x}<br>Count=%{y}<extra></extra>",
         "legendgroup": "3",
         "marker": {
          "color": "rgb(141,160,203)",
          "pattern": {
           "shape": ""
          }
         },
         "name": "3",
         "offsetgroup": "3",
         "orientation": "v",
         "showlegend": true,
         "textposition": "auto",
         "type": "bar",
         "x": [
          "MEDIUM",
          "SOFT"
         ],
         "xaxis": "x2",
         "y": [
          35,
          15
         ],
         "yaxis": "y2"
        },
        {
         "alignmentgroup": "True",
         "hovertemplate": "Rain Period=4<br>Rainfall=False<br>Compound=%{x}<br>Count=%{y}<extra></extra>",
         "legendgroup": "4",
         "marker": {
          "color": "rgb(231,138,195)",
          "pattern": {
           "shape": ""
          }
         },
         "name": "4",
         "offsetgroup": "4",
         "orientation": "v",
         "showlegend": true,
         "textposition": "auto",
         "type": "bar",
         "x": [
          "MEDIUM",
          "SOFT"
         ],
         "xaxis": "x",
         "y": [
          166,
          66
         ],
         "yaxis": "y"
        }
       ],
       "layout": {
        "annotations": [
         {
          "font": {},
          "showarrow": false,
          "text": "Rainfall=False",
          "textangle": 90,
          "x": 0.98,
          "xanchor": "left",
          "xref": "paper",
          "y": 0.2425,
          "yanchor": "middle",
          "yref": "paper"
         },
         {
          "font": {},
          "showarrow": false,
          "text": "Rainfall=True",
          "textangle": 90,
          "x": 0.98,
          "xanchor": "left",
          "xref": "paper",
          "y": 0.7575000000000001,
          "yanchor": "middle",
          "yref": "paper"
         }
        ],
        "barmode": "group",
        "legend": {
         "title": {
          "text": "Rain Period"
         },
         "tracegroupgap": 0
        },
        "template": {
         "data": {
          "bar": [
           {
            "error_x": {
             "color": "#2a3f5f"
            },
            "error_y": {
             "color": "#2a3f5f"
            },
            "marker": {
             "line": {
              "color": "#E5ECF6",
              "width": 0.5
             },
             "pattern": {
              "fillmode": "overlay",
              "size": 10,
              "solidity": 0.2
             }
            },
            "type": "bar"
           }
          ],
          "barpolar": [
           {
            "marker": {
             "line": {
              "color": "#E5ECF6",
              "width": 0.5
             },
             "pattern": {
              "fillmode": "overlay",
              "size": 10,
              "solidity": 0.2
             }
            },
            "type": "barpolar"
           }
          ],
          "carpet": [
           {
            "aaxis": {
             "endlinecolor": "#2a3f5f",
             "gridcolor": "white",
             "linecolor": "white",
             "minorgridcolor": "white",
             "startlinecolor": "#2a3f5f"
            },
            "baxis": {
             "endlinecolor": "#2a3f5f",
             "gridcolor": "white",
             "linecolor": "white",
             "minorgridcolor": "white",
             "startlinecolor": "#2a3f5f"
            },
            "type": "carpet"
           }
          ],
          "choropleth": [
           {
            "colorbar": {
             "outlinewidth": 0,
             "ticks": ""
            },
            "type": "choropleth"
           }
          ],
          "contour": [
           {
            "colorbar": {
             "outlinewidth": 0,
             "ticks": ""
            },
            "colorscale": [
             [
              0,
              "#0d0887"
             ],
             [
              0.1111111111111111,
              "#46039f"
             ],
             [
              0.2222222222222222,
              "#7201a8"
             ],
             [
              0.3333333333333333,
              "#9c179e"
             ],
             [
              0.4444444444444444,
              "#bd3786"
             ],
             [
              0.5555555555555556,
              "#d8576b"
             ],
             [
              0.6666666666666666,
              "#ed7953"
             ],
             [
              0.7777777777777778,
              "#fb9f3a"
             ],
             [
              0.8888888888888888,
              "#fdca26"
             ],
             [
              1,
              "#f0f921"
             ]
            ],
            "type": "contour"
           }
          ],
          "contourcarpet": [
           {
            "colorbar": {
             "outlinewidth": 0,
             "ticks": ""
            },
            "type": "contourcarpet"
           }
          ],
          "heatmap": [
           {
            "colorbar": {
             "outlinewidth": 0,
             "ticks": ""
            },
            "colorscale": [
             [
              0,
              "#0d0887"
             ],
             [
              0.1111111111111111,
              "#46039f"
             ],
             [
              0.2222222222222222,
              "#7201a8"
             ],
             [
              0.3333333333333333,
              "#9c179e"
             ],
             [
              0.4444444444444444,
              "#bd3786"
             ],
             [
              0.5555555555555556,
              "#d8576b"
             ],
             [
              0.6666666666666666,
              "#ed7953"
             ],
             [
              0.7777777777777778,
              "#fb9f3a"
             ],
             [
              0.8888888888888888,
              "#fdca26"
             ],
             [
              1,
              "#f0f921"
             ]
            ],
            "type": "heatmap"
           }
          ],
          "heatmapgl": [
           {
            "colorbar": {
             "outlinewidth": 0,
             "ticks": ""
            },
            "colorscale": [
             [
              0,
              "#0d0887"
             ],
             [
              0.1111111111111111,
              "#46039f"
             ],
             [
              0.2222222222222222,
              "#7201a8"
             ],
             [
              0.3333333333333333,
              "#9c179e"
             ],
             [
              0.4444444444444444,
              "#bd3786"
             ],
             [
              0.5555555555555556,
              "#d8576b"
             ],
             [
              0.6666666666666666,
              "#ed7953"
             ],
             [
              0.7777777777777778,
              "#fb9f3a"
             ],
             [
              0.8888888888888888,
              "#fdca26"
             ],
             [
              1,
              "#f0f921"
             ]
            ],
            "type": "heatmapgl"
           }
          ],
          "histogram": [
           {
            "marker": {
             "pattern": {
              "fillmode": "overlay",
              "size": 10,
              "solidity": 0.2
             }
            },
            "type": "histogram"
           }
          ],
          "histogram2d": [
           {
            "colorbar": {
             "outlinewidth": 0,
             "ticks": ""
            },
            "colorscale": [
             [
              0,
              "#0d0887"
             ],
             [
              0.1111111111111111,
              "#46039f"
             ],
             [
              0.2222222222222222,
              "#7201a8"
             ],
             [
              0.3333333333333333,
              "#9c179e"
             ],
             [
              0.4444444444444444,
              "#bd3786"
             ],
             [
              0.5555555555555556,
              "#d8576b"
             ],
             [
              0.6666666666666666,
              "#ed7953"
             ],
             [
              0.7777777777777778,
              "#fb9f3a"
             ],
             [
              0.8888888888888888,
              "#fdca26"
             ],
             [
              1,
              "#f0f921"
             ]
            ],
            "type": "histogram2d"
           }
          ],
          "histogram2dcontour": [
           {
            "colorbar": {
             "outlinewidth": 0,
             "ticks": ""
            },
            "colorscale": [
             [
              0,
              "#0d0887"
             ],
             [
              0.1111111111111111,
              "#46039f"
             ],
             [
              0.2222222222222222,
              "#7201a8"
             ],
             [
              0.3333333333333333,
              "#9c179e"
             ],
             [
              0.4444444444444444,
              "#bd3786"
             ],
             [
              0.5555555555555556,
              "#d8576b"
             ],
             [
              0.6666666666666666,
              "#ed7953"
             ],
             [
              0.7777777777777778,
              "#fb9f3a"
             ],
             [
              0.8888888888888888,
              "#fdca26"
             ],
             [
              1,
              "#f0f921"
             ]
            ],
            "type": "histogram2dcontour"
           }
          ],
          "mesh3d": [
           {
            "colorbar": {
             "outlinewidth": 0,
             "ticks": ""
            },
            "type": "mesh3d"
           }
          ],
          "parcoords": [
           {
            "line": {
             "colorbar": {
              "outlinewidth": 0,
              "ticks": ""
             }
            },
            "type": "parcoords"
           }
          ],
          "pie": [
           {
            "automargin": true,
            "type": "pie"
           }
          ],
          "scatter": [
           {
            "fillpattern": {
             "fillmode": "overlay",
             "size": 10,
             "solidity": 0.2
            },
            "type": "scatter"
           }
          ],
          "scatter3d": [
           {
            "line": {
             "colorbar": {
              "outlinewidth": 0,
              "ticks": ""
             }
            },
            "marker": {
             "colorbar": {
              "outlinewidth": 0,
              "ticks": ""
             }
            },
            "type": "scatter3d"
           }
          ],
          "scattercarpet": [
           {
            "marker": {
             "colorbar": {
              "outlinewidth": 0,
              "ticks": ""
             }
            },
            "type": "scattercarpet"
           }
          ],
          "scattergeo": [
           {
            "marker": {
             "colorbar": {
              "outlinewidth": 0,
              "ticks": ""
             }
            },
            "type": "scattergeo"
           }
          ],
          "scattergl": [
           {
            "marker": {
             "colorbar": {
              "outlinewidth": 0,
              "ticks": ""
             }
            },
            "type": "scattergl"
           }
          ],
          "scattermapbox": [
           {
            "marker": {
             "colorbar": {
              "outlinewidth": 0,
              "ticks": ""
             }
            },
            "type": "scattermapbox"
           }
          ],
          "scatterpolar": [
           {
            "marker": {
             "colorbar": {
              "outlinewidth": 0,
              "ticks": ""
             }
            },
            "type": "scatterpolar"
           }
          ],
          "scatterpolargl": [
           {
            "marker": {
             "colorbar": {
              "outlinewidth": 0,
              "ticks": ""
             }
            },
            "type": "scatterpolargl"
           }
          ],
          "scatterternary": [
           {
            "marker": {
             "colorbar": {
              "outlinewidth": 0,
              "ticks": ""
             }
            },
            "type": "scatterternary"
           }
          ],
          "surface": [
           {
            "colorbar": {
             "outlinewidth": 0,
             "ticks": ""
            },
            "colorscale": [
             [
              0,
              "#0d0887"
             ],
             [
              0.1111111111111111,
              "#46039f"
             ],
             [
              0.2222222222222222,
              "#7201a8"
             ],
             [
              0.3333333333333333,
              "#9c179e"
             ],
             [
              0.4444444444444444,
              "#bd3786"
             ],
             [
              0.5555555555555556,
              "#d8576b"
             ],
             [
              0.6666666666666666,
              "#ed7953"
             ],
             [
              0.7777777777777778,
              "#fb9f3a"
             ],
             [
              0.8888888888888888,
              "#fdca26"
             ],
             [
              1,
              "#f0f921"
             ]
            ],
            "type": "surface"
           }
          ],
          "table": [
           {
            "cells": {
             "fill": {
              "color": "#EBF0F8"
             },
             "line": {
              "color": "white"
             }
            },
            "header": {
             "fill": {
              "color": "#C8D4E3"
             },
             "line": {
              "color": "white"
             }
            },
            "type": "table"
           }
          ]
         },
         "layout": {
          "annotationdefaults": {
           "arrowcolor": "#2a3f5f",
           "arrowhead": 0,
           "arrowwidth": 1
          },
          "autotypenumbers": "strict",
          "coloraxis": {
           "colorbar": {
            "outlinewidth": 0,
            "ticks": ""
           }
          },
          "colorscale": {
           "diverging": [
            [
             0,
             "#8e0152"
            ],
            [
             0.1,
             "#c51b7d"
            ],
            [
             0.2,
             "#de77ae"
            ],
            [
             0.3,
             "#f1b6da"
            ],
            [
             0.4,
             "#fde0ef"
            ],
            [
             0.5,
             "#f7f7f7"
            ],
            [
             0.6,
             "#e6f5d0"
            ],
            [
             0.7,
             "#b8e186"
            ],
            [
             0.8,
             "#7fbc41"
            ],
            [
             0.9,
             "#4d9221"
            ],
            [
             1,
             "#276419"
            ]
           ],
           "sequential": [
            [
             0,
             "#0d0887"
            ],
            [
             0.1111111111111111,
             "#46039f"
            ],
            [
             0.2222222222222222,
             "#7201a8"
            ],
            [
             0.3333333333333333,
             "#9c179e"
            ],
            [
             0.4444444444444444,
             "#bd3786"
            ],
            [
             0.5555555555555556,
             "#d8576b"
            ],
            [
             0.6666666666666666,
             "#ed7953"
            ],
            [
             0.7777777777777778,
             "#fb9f3a"
            ],
            [
             0.8888888888888888,
             "#fdca26"
            ],
            [
             1,
             "#f0f921"
            ]
           ],
           "sequentialminus": [
            [
             0,
             "#0d0887"
            ],
            [
             0.1111111111111111,
             "#46039f"
            ],
            [
             0.2222222222222222,
             "#7201a8"
            ],
            [
             0.3333333333333333,
             "#9c179e"
            ],
            [
             0.4444444444444444,
             "#bd3786"
            ],
            [
             0.5555555555555556,
             "#d8576b"
            ],
            [
             0.6666666666666666,
             "#ed7953"
            ],
            [
             0.7777777777777778,
             "#fb9f3a"
            ],
            [
             0.8888888888888888,
             "#fdca26"
            ],
            [
             1,
             "#f0f921"
            ]
           ]
          },
          "colorway": [
           "#636efa",
           "#EF553B",
           "#00cc96",
           "#ab63fa",
           "#FFA15A",
           "#19d3f3",
           "#FF6692",
           "#B6E880",
           "#FF97FF",
           "#FECB52"
          ],
          "font": {
           "color": "#2a3f5f"
          },
          "geo": {
           "bgcolor": "white",
           "lakecolor": "white",
           "landcolor": "#E5ECF6",
           "showlakes": true,
           "showland": true,
           "subunitcolor": "white"
          },
          "hoverlabel": {
           "align": "left"
          },
          "hovermode": "closest",
          "mapbox": {
           "style": "light"
          },
          "paper_bgcolor": "white",
          "plot_bgcolor": "#E5ECF6",
          "polar": {
           "angularaxis": {
            "gridcolor": "white",
            "linecolor": "white",
            "ticks": ""
           },
           "bgcolor": "#E5ECF6",
           "radialaxis": {
            "gridcolor": "white",
            "linecolor": "white",
            "ticks": ""
           }
          },
          "scene": {
           "xaxis": {
            "backgroundcolor": "#E5ECF6",
            "gridcolor": "white",
            "gridwidth": 2,
            "linecolor": "white",
            "showbackground": true,
            "ticks": "",
            "zerolinecolor": "white"
           },
           "yaxis": {
            "backgroundcolor": "#E5ECF6",
            "gridcolor": "white",
            "gridwidth": 2,
            "linecolor": "white",
            "showbackground": true,
            "ticks": "",
            "zerolinecolor": "white"
           },
           "zaxis": {
            "backgroundcolor": "#E5ECF6",
            "gridcolor": "white",
            "gridwidth": 2,
            "linecolor": "white",
            "showbackground": true,
            "ticks": "",
            "zerolinecolor": "white"
           }
          },
          "shapedefaults": {
           "line": {
            "color": "#2a3f5f"
           }
          },
          "ternary": {
           "aaxis": {
            "gridcolor": "white",
            "linecolor": "white",
            "ticks": ""
           },
           "baxis": {
            "gridcolor": "white",
            "linecolor": "white",
            "ticks": ""
           },
           "bgcolor": "#E5ECF6",
           "caxis": {
            "gridcolor": "white",
            "linecolor": "white",
            "ticks": ""
           }
          },
          "title": {
           "x": 0.05
          },
          "xaxis": {
           "automargin": true,
           "gridcolor": "white",
           "linecolor": "white",
           "ticks": "",
           "title": {
            "standoff": 15
           },
           "zerolinecolor": "white",
           "zerolinewidth": 2
          },
          "yaxis": {
           "automargin": true,
           "gridcolor": "white",
           "linecolor": "white",
           "ticks": "",
           "title": {
            "standoff": 15
           },
           "zerolinecolor": "white",
           "zerolinewidth": 2
          }
         }
        },
        "title": {
         "text": "Distribution of Tire Compounds Based on Rain Period and Rainfall"
        },
        "xaxis": {
         "anchor": "y",
         "domain": [
          0,
          0.98
         ],
         "title": {
          "text": "Compound"
         }
        },
        "xaxis2": {
         "anchor": "y2",
         "domain": [
          0,
          0.98
         ],
         "matches": "x",
         "showticklabels": false
        },
        "yaxis": {
         "anchor": "x",
         "domain": [
          0,
          0.485
         ],
         "title": {
          "text": "Count"
         }
        },
        "yaxis2": {
         "anchor": "x2",
         "domain": [
          0.515,
          1
         ],
         "matches": "y",
         "title": {
          "text": "Count"
         }
        }
       }
      }
     },
     "metadata": {},
     "output_type": "display_data"
    }
   ],
   "source": [
    "# Convert RainPeriod and Rainfall to string for labeling\n",
    "aligned_data['RainPeriod'] = aligned_data['RainPeriod'].astype(str)  \n",
    "aligned_data['Rainfall'] = aligned_data['Rainfall'].astype(str)  \n",
    "\n",
    "# Create a count of compounds based on rain periods and rainfall\n",
    "compound_rain_counts = aligned_data.groupby(['Compound', 'RainPeriod', 'Rainfall']).size().reset_index(name='Count')\n",
    "\n",
    "# Create the bar plot\n",
    "fig = px.bar(\n",
    "    compound_rain_counts,\n",
    "    x='Compound',\n",
    "    y='Count',\n",
    "    color='RainPeriod',  \n",
    "    facet_row='Rainfall',  \n",
    "    title='Distribution of Tire Compounds Based on Rain Period and Rainfall',\n",
    "    labels={'RainPeriod': 'Rain Period', 'Rainfall': 'Rainfall'},\n",
    "    barmode='group',  \n",
    "    color_discrete_sequence=px.colors.qualitative.Set2\n",
    ")\n",
    "\n",
    "\n",
    "fig.show()\n"
   ]
  },
  {
   "cell_type": "markdown",
   "id": "e8574b75",
   "metadata": {},
   "source": [
    "The graph shows the relationship between tire strategy (compound choice), weather conditions (rain periods), and if rainfall is true or not. By analyzing this information, teams can find tire performance and make decisions for future races regarding tire selection in varying weather scenarios. Not only this but comparing tire compound usage during rain vs. no rain can show how well they performed in the race and actually predicting whether there is going to be rain or not. This analysis helps in optimizing tire strategies and improving overall race performance under similar conditions."
   ]
  },
  {
   "cell_type": "code",
   "execution_count": 30,
   "id": "99543e06-d544-4808-ae0f-bc802e64f68f",
   "metadata": {},
   "outputs": [
    {
     "data": {
      "application/vnd.plotly.v1+json": {
       "config": {
        "plotlyServerURL": "https://plot.ly"
       },
       "data": [
        {
         "alignmentgroup": "True",
         "hovertemplate": "Sector=Sector1Time<br>Tire Compound=%{x}<br>Average Sector Time (seconds)=%{y}<extra></extra>",
         "legendgroup": "Sector1Time",
         "marker": {
          "color": "rgb(102,194,165)",
          "pattern": {
           "shape": ""
          }
         },
         "name": "Sector1Time",
         "offsetgroup": "Sector1Time",
         "orientation": "v",
         "showlegend": true,
         "textposition": "auto",
         "type": "bar",
         "x": [
          "INTERMEDIATE",
          "MEDIUM",
          "SOFT",
          "WET"
         ],
         "xaxis": "x",
         "y": [
          32.054537777,
          29.676567873,
          28.329830188,
          38.660321428
         ],
         "yaxis": "y"
        },
        {
         "alignmentgroup": "True",
         "hovertemplate": "Sector=Sector2Time<br>Tire Compound=%{x}<br>Average Sector Time (seconds)=%{y}<extra></extra>",
         "legendgroup": "Sector2Time",
         "marker": {
          "color": "rgb(252,141,98)",
          "pattern": {
           "shape": ""
          }
         },
         "name": "Sector2Time",
         "offsetgroup": "Sector2Time",
         "orientation": "v",
         "showlegend": true,
         "textposition": "auto",
         "type": "bar",
         "x": [
          "INTERMEDIATE",
          "MEDIUM",
          "SOFT",
          "WET"
         ],
         "xaxis": "x",
         "y": [
          35.494670258,
          29.377830769,
          29.064170731,
          42.0666875
         ],
         "yaxis": "y"
        },
        {
         "alignmentgroup": "True",
         "hovertemplate": "Sector=Sector3Time<br>Tire Compound=%{x}<br>Average Sector Time (seconds)=%{y}<extra></extra>",
         "legendgroup": "Sector3Time",
         "marker": {
          "color": "rgb(141,160,203)",
          "pattern": {
           "shape": ""
          }
         },
         "name": "Sector3Time",
         "offsetgroup": "Sector3Time",
         "orientation": "v",
         "showlegend": true,
         "textposition": "auto",
         "type": "bar",
         "x": [
          "INTERMEDIATE",
          "MEDIUM",
          "SOFT",
          "WET"
         ],
         "xaxis": "x",
         "y": [
          33.660974137,
          28.807114285,
          28.218481707,
          40.90265625
         ],
         "yaxis": "y"
        }
       ],
       "layout": {
        "barmode": "group",
        "legend": {
         "title": {
          "text": "Sector"
         },
         "tracegroupgap": 0
        },
        "template": {
         "data": {
          "bar": [
           {
            "error_x": {
             "color": "#2a3f5f"
            },
            "error_y": {
             "color": "#2a3f5f"
            },
            "marker": {
             "line": {
              "color": "#E5ECF6",
              "width": 0.5
             },
             "pattern": {
              "fillmode": "overlay",
              "size": 10,
              "solidity": 0.2
             }
            },
            "type": "bar"
           }
          ],
          "barpolar": [
           {
            "marker": {
             "line": {
              "color": "#E5ECF6",
              "width": 0.5
             },
             "pattern": {
              "fillmode": "overlay",
              "size": 10,
              "solidity": 0.2
             }
            },
            "type": "barpolar"
           }
          ],
          "carpet": [
           {
            "aaxis": {
             "endlinecolor": "#2a3f5f",
             "gridcolor": "white",
             "linecolor": "white",
             "minorgridcolor": "white",
             "startlinecolor": "#2a3f5f"
            },
            "baxis": {
             "endlinecolor": "#2a3f5f",
             "gridcolor": "white",
             "linecolor": "white",
             "minorgridcolor": "white",
             "startlinecolor": "#2a3f5f"
            },
            "type": "carpet"
           }
          ],
          "choropleth": [
           {
            "colorbar": {
             "outlinewidth": 0,
             "ticks": ""
            },
            "type": "choropleth"
           }
          ],
          "contour": [
           {
            "colorbar": {
             "outlinewidth": 0,
             "ticks": ""
            },
            "colorscale": [
             [
              0,
              "#0d0887"
             ],
             [
              0.1111111111111111,
              "#46039f"
             ],
             [
              0.2222222222222222,
              "#7201a8"
             ],
             [
              0.3333333333333333,
              "#9c179e"
             ],
             [
              0.4444444444444444,
              "#bd3786"
             ],
             [
              0.5555555555555556,
              "#d8576b"
             ],
             [
              0.6666666666666666,
              "#ed7953"
             ],
             [
              0.7777777777777778,
              "#fb9f3a"
             ],
             [
              0.8888888888888888,
              "#fdca26"
             ],
             [
              1,
              "#f0f921"
             ]
            ],
            "type": "contour"
           }
          ],
          "contourcarpet": [
           {
            "colorbar": {
             "outlinewidth": 0,
             "ticks": ""
            },
            "type": "contourcarpet"
           }
          ],
          "heatmap": [
           {
            "colorbar": {
             "outlinewidth": 0,
             "ticks": ""
            },
            "colorscale": [
             [
              0,
              "#0d0887"
             ],
             [
              0.1111111111111111,
              "#46039f"
             ],
             [
              0.2222222222222222,
              "#7201a8"
             ],
             [
              0.3333333333333333,
              "#9c179e"
             ],
             [
              0.4444444444444444,
              "#bd3786"
             ],
             [
              0.5555555555555556,
              "#d8576b"
             ],
             [
              0.6666666666666666,
              "#ed7953"
             ],
             [
              0.7777777777777778,
              "#fb9f3a"
             ],
             [
              0.8888888888888888,
              "#fdca26"
             ],
             [
              1,
              "#f0f921"
             ]
            ],
            "type": "heatmap"
           }
          ],
          "heatmapgl": [
           {
            "colorbar": {
             "outlinewidth": 0,
             "ticks": ""
            },
            "colorscale": [
             [
              0,
              "#0d0887"
             ],
             [
              0.1111111111111111,
              "#46039f"
             ],
             [
              0.2222222222222222,
              "#7201a8"
             ],
             [
              0.3333333333333333,
              "#9c179e"
             ],
             [
              0.4444444444444444,
              "#bd3786"
             ],
             [
              0.5555555555555556,
              "#d8576b"
             ],
             [
              0.6666666666666666,
              "#ed7953"
             ],
             [
              0.7777777777777778,
              "#fb9f3a"
             ],
             [
              0.8888888888888888,
              "#fdca26"
             ],
             [
              1,
              "#f0f921"
             ]
            ],
            "type": "heatmapgl"
           }
          ],
          "histogram": [
           {
            "marker": {
             "pattern": {
              "fillmode": "overlay",
              "size": 10,
              "solidity": 0.2
             }
            },
            "type": "histogram"
           }
          ],
          "histogram2d": [
           {
            "colorbar": {
             "outlinewidth": 0,
             "ticks": ""
            },
            "colorscale": [
             [
              0,
              "#0d0887"
             ],
             [
              0.1111111111111111,
              "#46039f"
             ],
             [
              0.2222222222222222,
              "#7201a8"
             ],
             [
              0.3333333333333333,
              "#9c179e"
             ],
             [
              0.4444444444444444,
              "#bd3786"
             ],
             [
              0.5555555555555556,
              "#d8576b"
             ],
             [
              0.6666666666666666,
              "#ed7953"
             ],
             [
              0.7777777777777778,
              "#fb9f3a"
             ],
             [
              0.8888888888888888,
              "#fdca26"
             ],
             [
              1,
              "#f0f921"
             ]
            ],
            "type": "histogram2d"
           }
          ],
          "histogram2dcontour": [
           {
            "colorbar": {
             "outlinewidth": 0,
             "ticks": ""
            },
            "colorscale": [
             [
              0,
              "#0d0887"
             ],
             [
              0.1111111111111111,
              "#46039f"
             ],
             [
              0.2222222222222222,
              "#7201a8"
             ],
             [
              0.3333333333333333,
              "#9c179e"
             ],
             [
              0.4444444444444444,
              "#bd3786"
             ],
             [
              0.5555555555555556,
              "#d8576b"
             ],
             [
              0.6666666666666666,
              "#ed7953"
             ],
             [
              0.7777777777777778,
              "#fb9f3a"
             ],
             [
              0.8888888888888888,
              "#fdca26"
             ],
             [
              1,
              "#f0f921"
             ]
            ],
            "type": "histogram2dcontour"
           }
          ],
          "mesh3d": [
           {
            "colorbar": {
             "outlinewidth": 0,
             "ticks": ""
            },
            "type": "mesh3d"
           }
          ],
          "parcoords": [
           {
            "line": {
             "colorbar": {
              "outlinewidth": 0,
              "ticks": ""
             }
            },
            "type": "parcoords"
           }
          ],
          "pie": [
           {
            "automargin": true,
            "type": "pie"
           }
          ],
          "scatter": [
           {
            "fillpattern": {
             "fillmode": "overlay",
             "size": 10,
             "solidity": 0.2
            },
            "type": "scatter"
           }
          ],
          "scatter3d": [
           {
            "line": {
             "colorbar": {
              "outlinewidth": 0,
              "ticks": ""
             }
            },
            "marker": {
             "colorbar": {
              "outlinewidth": 0,
              "ticks": ""
             }
            },
            "type": "scatter3d"
           }
          ],
          "scattercarpet": [
           {
            "marker": {
             "colorbar": {
              "outlinewidth": 0,
              "ticks": ""
             }
            },
            "type": "scattercarpet"
           }
          ],
          "scattergeo": [
           {
            "marker": {
             "colorbar": {
              "outlinewidth": 0,
              "ticks": ""
             }
            },
            "type": "scattergeo"
           }
          ],
          "scattergl": [
           {
            "marker": {
             "colorbar": {
              "outlinewidth": 0,
              "ticks": ""
             }
            },
            "type": "scattergl"
           }
          ],
          "scattermapbox": [
           {
            "marker": {
             "colorbar": {
              "outlinewidth": 0,
              "ticks": ""
             }
            },
            "type": "scattermapbox"
           }
          ],
          "scatterpolar": [
           {
            "marker": {
             "colorbar": {
              "outlinewidth": 0,
              "ticks": ""
             }
            },
            "type": "scatterpolar"
           }
          ],
          "scatterpolargl": [
           {
            "marker": {
             "colorbar": {
              "outlinewidth": 0,
              "ticks": ""
             }
            },
            "type": "scatterpolargl"
           }
          ],
          "scatterternary": [
           {
            "marker": {
             "colorbar": {
              "outlinewidth": 0,
              "ticks": ""
             }
            },
            "type": "scatterternary"
           }
          ],
          "surface": [
           {
            "colorbar": {
             "outlinewidth": 0,
             "ticks": ""
            },
            "colorscale": [
             [
              0,
              "#0d0887"
             ],
             [
              0.1111111111111111,
              "#46039f"
             ],
             [
              0.2222222222222222,
              "#7201a8"
             ],
             [
              0.3333333333333333,
              "#9c179e"
             ],
             [
              0.4444444444444444,
              "#bd3786"
             ],
             [
              0.5555555555555556,
              "#d8576b"
             ],
             [
              0.6666666666666666,
              "#ed7953"
             ],
             [
              0.7777777777777778,
              "#fb9f3a"
             ],
             [
              0.8888888888888888,
              "#fdca26"
             ],
             [
              1,
              "#f0f921"
             ]
            ],
            "type": "surface"
           }
          ],
          "table": [
           {
            "cells": {
             "fill": {
              "color": "#EBF0F8"
             },
             "line": {
              "color": "white"
             }
            },
            "header": {
             "fill": {
              "color": "#C8D4E3"
             },
             "line": {
              "color": "white"
             }
            },
            "type": "table"
           }
          ]
         },
         "layout": {
          "annotationdefaults": {
           "arrowcolor": "#2a3f5f",
           "arrowhead": 0,
           "arrowwidth": 1
          },
          "autotypenumbers": "strict",
          "coloraxis": {
           "colorbar": {
            "outlinewidth": 0,
            "ticks": ""
           }
          },
          "colorscale": {
           "diverging": [
            [
             0,
             "#8e0152"
            ],
            [
             0.1,
             "#c51b7d"
            ],
            [
             0.2,
             "#de77ae"
            ],
            [
             0.3,
             "#f1b6da"
            ],
            [
             0.4,
             "#fde0ef"
            ],
            [
             0.5,
             "#f7f7f7"
            ],
            [
             0.6,
             "#e6f5d0"
            ],
            [
             0.7,
             "#b8e186"
            ],
            [
             0.8,
             "#7fbc41"
            ],
            [
             0.9,
             "#4d9221"
            ],
            [
             1,
             "#276419"
            ]
           ],
           "sequential": [
            [
             0,
             "#0d0887"
            ],
            [
             0.1111111111111111,
             "#46039f"
            ],
            [
             0.2222222222222222,
             "#7201a8"
            ],
            [
             0.3333333333333333,
             "#9c179e"
            ],
            [
             0.4444444444444444,
             "#bd3786"
            ],
            [
             0.5555555555555556,
             "#d8576b"
            ],
            [
             0.6666666666666666,
             "#ed7953"
            ],
            [
             0.7777777777777778,
             "#fb9f3a"
            ],
            [
             0.8888888888888888,
             "#fdca26"
            ],
            [
             1,
             "#f0f921"
            ]
           ],
           "sequentialminus": [
            [
             0,
             "#0d0887"
            ],
            [
             0.1111111111111111,
             "#46039f"
            ],
            [
             0.2222222222222222,
             "#7201a8"
            ],
            [
             0.3333333333333333,
             "#9c179e"
            ],
            [
             0.4444444444444444,
             "#bd3786"
            ],
            [
             0.5555555555555556,
             "#d8576b"
            ],
            [
             0.6666666666666666,
             "#ed7953"
            ],
            [
             0.7777777777777778,
             "#fb9f3a"
            ],
            [
             0.8888888888888888,
             "#fdca26"
            ],
            [
             1,
             "#f0f921"
            ]
           ]
          },
          "colorway": [
           "#636efa",
           "#EF553B",
           "#00cc96",
           "#ab63fa",
           "#FFA15A",
           "#19d3f3",
           "#FF6692",
           "#B6E880",
           "#FF97FF",
           "#FECB52"
          ],
          "font": {
           "color": "#2a3f5f"
          },
          "geo": {
           "bgcolor": "white",
           "lakecolor": "white",
           "landcolor": "#E5ECF6",
           "showlakes": true,
           "showland": true,
           "subunitcolor": "white"
          },
          "hoverlabel": {
           "align": "left"
          },
          "hovermode": "closest",
          "mapbox": {
           "style": "light"
          },
          "paper_bgcolor": "white",
          "plot_bgcolor": "#E5ECF6",
          "polar": {
           "angularaxis": {
            "gridcolor": "white",
            "linecolor": "white",
            "ticks": ""
           },
           "bgcolor": "#E5ECF6",
           "radialaxis": {
            "gridcolor": "white",
            "linecolor": "white",
            "ticks": ""
           }
          },
          "scene": {
           "xaxis": {
            "backgroundcolor": "#E5ECF6",
            "gridcolor": "white",
            "gridwidth": 2,
            "linecolor": "white",
            "showbackground": true,
            "ticks": "",
            "zerolinecolor": "white"
           },
           "yaxis": {
            "backgroundcolor": "#E5ECF6",
            "gridcolor": "white",
            "gridwidth": 2,
            "linecolor": "white",
            "showbackground": true,
            "ticks": "",
            "zerolinecolor": "white"
           },
           "zaxis": {
            "backgroundcolor": "#E5ECF6",
            "gridcolor": "white",
            "gridwidth": 2,
            "linecolor": "white",
            "showbackground": true,
            "ticks": "",
            "zerolinecolor": "white"
           }
          },
          "shapedefaults": {
           "line": {
            "color": "#2a3f5f"
           }
          },
          "ternary": {
           "aaxis": {
            "gridcolor": "white",
            "linecolor": "white",
            "ticks": ""
           },
           "baxis": {
            "gridcolor": "white",
            "linecolor": "white",
            "ticks": ""
           },
           "bgcolor": "#E5ECF6",
           "caxis": {
            "gridcolor": "white",
            "linecolor": "white",
            "ticks": ""
           }
          },
          "title": {
           "x": 0.05
          },
          "xaxis": {
           "automargin": true,
           "gridcolor": "white",
           "linecolor": "white",
           "ticks": "",
           "title": {
            "standoff": 15
           },
           "zerolinecolor": "white",
           "zerolinewidth": 2
          },
          "yaxis": {
           "automargin": true,
           "gridcolor": "white",
           "linecolor": "white",
           "ticks": "",
           "title": {
            "standoff": 15
           },
           "zerolinecolor": "white",
           "zerolinewidth": 2
          }
         }
        },
        "title": {
         "text": "Average Sector Times by Tire Compound"
        },
        "xaxis": {
         "anchor": "y",
         "domain": [
          0,
          1
         ],
         "title": {
          "text": "Tire Compound"
         }
        },
        "yaxis": {
         "anchor": "x",
         "domain": [
          0,
          1
         ],
         "title": {
          "text": "Average Sector Time (seconds)"
         }
        }
       }
      }
     },
     "metadata": {},
     "output_type": "display_data"
    }
   ],
   "source": [
    "# Calculate the average sector times for each compound\n",
    "average_sector_times = aligned_data.groupby('Compound')[['Sector1Time', 'Sector2Time', 'Sector3Time']].mean().reset_index()\n",
    "\n",
    "# Melt the DataFrame to have a long format for plotting\n",
    "melted_sector_times = average_sector_times.melt(id_vars='Compound', \n",
    "                                                 value_vars=['Sector1Time', 'Sector2Time', 'Sector3Time'], \n",
    "                                                 var_name='Sector', \n",
    "                                                 value_name='AverageTime')\n",
    "\n",
    "# Convert AverageTime to seconds for easier interpretation\n",
    "melted_sector_times['AverageTime'] = melted_sector_times['AverageTime'].dt.total_seconds()\n",
    "\n",
    "# Create the plot\n",
    "fig = px.bar(\n",
    "    melted_sector_times,\n",
    "    x='Compound',\n",
    "    y='AverageTime',\n",
    "    color='Sector',\n",
    "    barmode='group',\n",
    "    title='Average Sector Times by Tire Compound',\n",
    "    labels={'AverageTime': 'Average Sector Time (seconds)', 'Compound': 'Tire Compound'},\n",
    "    color_discrete_sequence=px.colors.qualitative.Set2\n",
    ")\n",
    "\n",
    "\n",
    "fig.show()\n"
   ]
  },
  {
   "cell_type": "markdown",
   "id": "e5541b22",
   "metadata": {},
   "source": [
    "The graph shows how different tire compounds perform in terms of sector times during the race. By seeing this data, teams and analysts can gain information in terms of tire performance and make data-driven decisions for future races.  If one compound consistently shows shorter average times across all sectors, it suggests that this tire performs better in terms of speed in those specific sectors. This information is critical for making race strategies, tire selection, and the impact of tire choice on overall race performance."
   ]
  },
  {
   "cell_type": "code",
   "execution_count": 31,
   "id": "a5283334-232b-42ae-9798-c0e6957a6bad",
   "metadata": {},
   "outputs": [
    {
     "name": "stderr",
     "output_type": "stream",
     "text": [
      "/var/folders/qm/kb15jq7d5kvf69_hpz651m1h0000gn/T/ipykernel_48308/3659306680.py:2: SettingWithCopyWarning:\n",
      "\n",
      "\n",
      "A value is trying to be set on a copy of a slice from a DataFrame.\n",
      "Try using .loc[row_indexer,col_indexer] = value instead\n",
      "\n",
      "See the caveats in the documentation: https://pandas.pydata.org/pandas-docs/stable/user_guide/indexing.html#returning-a-view-versus-a-copy\n",
      "\n"
     ]
    },
    {
     "data": {
      "application/vnd.plotly.v1+json": {
       "config": {
        "plotlyServerURL": "https://plot.ly"
       },
       "data": [
        {
         "customdata": [
          [
           "OCO"
          ],
          [
           "OCO"
          ],
          [
           "OCO"
          ],
          [
           "OCO"
          ],
          [
           "OCO"
          ]
         ],
         "hovertemplate": "Driver=%{customdata[0]}<br>Lap Number=%{x}<br>Track Temperature (°C)=%{y}<extra></extra>",
         "legendgroup": "OCO",
         "marker": {
          "color": "#636efa",
          "symbol": "circle"
         },
         "mode": "markers",
         "name": "OCO",
         "orientation": "v",
         "showlegend": true,
         "type": "scatter",
         "x": [
          1,
          27,
          31,
          32,
          33
         ],
         "xaxis": "x",
         "y": [
          17.3,
          15.3,
          15.7,
          15.9,
          18
         ],
         "yaxis": "y"
        },
        {
         "customdata": [
          [
           "VET"
          ],
          [
           "VET"
          ],
          [
           "VET"
          ],
          [
           "VET"
          ],
          [
           "VET"
          ],
          [
           "VET"
          ]
         ],
         "hovertemplate": "Driver=%{customdata[0]}<br>Lap Number=%{x}<br>Track Temperature (°C)=%{y}<extra></extra>",
         "legendgroup": "VET",
         "marker": {
          "color": "#EF553B",
          "symbol": "circle"
         },
         "mode": "markers",
         "name": "VET",
         "orientation": "v",
         "showlegend": true,
         "type": "scatter",
         "x": [
          3,
          20,
          22,
          32,
          33,
          61
         ],
         "xaxis": "x",
         "y": [
          16.5,
          13.9,
          14.2,
          15.9,
          18,
          17.7
         ],
         "yaxis": "y"
        },
        {
         "customdata": [
          [
           "MSC"
          ],
          [
           "MSC"
          ],
          [
           "MSC"
          ],
          [
           "MSC"
          ]
         ],
         "hovertemplate": "Driver=%{customdata[0]}<br>Lap Number=%{x}<br>Track Temperature (°C)=%{y}<extra></extra>",
         "legendgroup": "MSC",
         "marker": {
          "color": "#00cc96",
          "symbol": "circle"
         },
         "mode": "markers",
         "name": "MSC",
         "orientation": "v",
         "showlegend": true,
         "type": "scatter",
         "x": [
          5,
          21,
          31,
          32
         ],
         "xaxis": "x",
         "y": [
          16.3,
          14.1,
          15.9,
          18
         ],
         "yaxis": "y"
        },
        {
         "customdata": [
          [
           "MAZ"
          ],
          [
           "MAZ"
          ],
          [
           "MAZ"
          ],
          [
           "MAZ"
          ]
         ],
         "hovertemplate": "Driver=%{customdata[0]}<br>Lap Number=%{x}<br>Track Temperature (°C)=%{y}<extra></extra>",
         "legendgroup": "MAZ",
         "marker": {
          "color": "#ab63fa",
          "symbol": "circle"
         },
         "mode": "markers",
         "name": "MAZ",
         "orientation": "v",
         "showlegend": true,
         "type": "scatter",
         "x": [
          12,
          23,
          31,
          32
         ],
         "xaxis": "x",
         "y": [
          14.9,
          14.6,
          15.9,
          18.3
         ],
         "yaxis": "y"
        },
        {
         "customdata": [
          [
           "GAS"
          ],
          [
           "GAS"
          ],
          [
           "GAS"
          ],
          [
           "GAS"
          ]
         ],
         "hovertemplate": "Driver=%{customdata[0]}<br>Lap Number=%{x}<br>Track Temperature (°C)=%{y}<extra></extra>",
         "legendgroup": "GAS",
         "marker": {
          "color": "#FFA15A",
          "symbol": "circle"
         },
         "mode": "markers",
         "name": "GAS",
         "orientation": "v",
         "showlegend": true,
         "type": "scatter",
         "x": [
          14,
          26,
          32,
          33
         ],
         "xaxis": "x",
         "y": [
          14.3,
          15.2,
          15.9,
          18
         ],
         "yaxis": "y"
        },
        {
         "customdata": [
          [
           "TSU"
          ],
          [
           "TSU"
          ],
          [
           "TSU"
          ]
         ],
         "hovertemplate": "Driver=%{customdata[0]}<br>Lap Number=%{x}<br>Track Temperature (°C)=%{y}<extra></extra>",
         "legendgroup": "TSU",
         "marker": {
          "color": "#19d3f3",
          "symbol": "circle"
         },
         "mode": "markers",
         "name": "TSU",
         "orientation": "v",
         "showlegend": true,
         "type": "scatter",
         "x": [
          25,
          32,
          33
         ],
         "xaxis": "x",
         "y": [
          14.9,
          15.9,
          18
         ],
         "yaxis": "y"
        },
        {
         "customdata": [
          [
           "RUS"
          ]
         ],
         "hovertemplate": "Driver=%{customdata[0]}<br>Lap Number=%{x}<br>Track Temperature (°C)=%{y}<extra></extra>",
         "legendgroup": "RUS",
         "marker": {
          "color": "#FF6692",
          "symbol": "circle"
         },
         "mode": "markers",
         "name": "RUS",
         "orientation": "v",
         "showlegend": true,
         "type": "scatter",
         "x": [
          26
         ],
         "xaxis": "x",
         "y": [
          15
         ],
         "yaxis": "y"
        },
        {
         "customdata": [
          [
           "RAI"
          ],
          [
           "RAI"
          ],
          [
           "RAI"
          ]
         ],
         "hovertemplate": "Driver=%{customdata[0]}<br>Lap Number=%{x}<br>Track Temperature (°C)=%{y}<extra></extra>",
         "legendgroup": "RAI",
         "marker": {
          "color": "#B6E880",
          "symbol": "circle"
         },
         "mode": "markers",
         "name": "RAI",
         "orientation": "v",
         "showlegend": true,
         "type": "scatter",
         "x": [
          26,
          32,
          33
         ],
         "xaxis": "x",
         "y": [
          15,
          15.9,
          18
         ],
         "yaxis": "y"
        },
        {
         "customdata": [
          [
           "VER"
          ],
          [
           "VER"
          ]
         ],
         "hovertemplate": "Driver=%{customdata[0]}<br>Lap Number=%{x}<br>Track Temperature (°C)=%{y}<extra></extra>",
         "legendgroup": "VER",
         "marker": {
          "color": "#FF97FF",
          "symbol": "circle"
         },
         "mode": "markers",
         "name": "VER",
         "orientation": "v",
         "showlegend": true,
         "type": "scatter",
         "x": [
          27,
          33
         ],
         "xaxis": "x",
         "y": [
          15,
          15.9
         ],
         "yaxis": "y"
        },
        {
         "customdata": [
          [
           "SAI"
          ],
          [
           "SAI"
          ]
         ],
         "hovertemplate": "Driver=%{customdata[0]}<br>Lap Number=%{x}<br>Track Temperature (°C)=%{y}<extra></extra>",
         "legendgroup": "SAI",
         "marker": {
          "color": "#FECB52",
          "symbol": "circle"
         },
         "mode": "markers",
         "name": "SAI",
         "orientation": "v",
         "showlegend": true,
         "type": "scatter",
         "x": [
          27,
          33
         ],
         "xaxis": "x",
         "y": [
          15.2,
          15.9
         ],
         "yaxis": "y"
        },
        {
         "customdata": [
          [
           "RIC"
          ],
          [
           "RIC"
          ]
         ],
         "hovertemplate": "Driver=%{customdata[0]}<br>Lap Number=%{x}<br>Track Temperature (°C)=%{y}<extra></extra>",
         "legendgroup": "RIC",
         "marker": {
          "color": "#636efa",
          "symbol": "circle"
         },
         "mode": "markers",
         "name": "RIC",
         "orientation": "v",
         "showlegend": true,
         "type": "scatter",
         "x": [
          27,
          33
         ],
         "xaxis": "x",
         "y": [
          15.2,
          15.9
         ],
         "yaxis": "y"
        },
        {
         "customdata": [
          [
           "STR"
          ],
          [
           "STR"
          ],
          [
           "STR"
          ]
         ],
         "hovertemplate": "Driver=%{customdata[0]}<br>Lap Number=%{x}<br>Track Temperature (°C)=%{y}<extra></extra>",
         "legendgroup": "STR",
         "marker": {
          "color": "#EF553B",
          "symbol": "circle"
         },
         "mode": "markers",
         "name": "STR",
         "orientation": "v",
         "showlegend": true,
         "type": "scatter",
         "x": [
          27,
          32,
          33
         ],
         "xaxis": "x",
         "y": [
          15.2,
          15.9,
          18
         ],
         "yaxis": "y"
        },
        {
         "customdata": [
          [
           "HAM"
          ],
          [
           "HAM"
          ],
          [
           "HAM"
          ],
          [
           "HAM"
          ]
         ],
         "hovertemplate": "Driver=%{customdata[0]}<br>Lap Number=%{x}<br>Track Temperature (°C)=%{y}<extra></extra>",
         "legendgroup": "HAM",
         "marker": {
          "color": "#00cc96",
          "symbol": "circle"
         },
         "mode": "markers",
         "name": "HAM",
         "orientation": "v",
         "showlegend": true,
         "type": "scatter",
         "x": [
          28,
          31,
          32,
          33
         ],
         "xaxis": "x",
         "y": [
          15.2,
          15.6,
          15.9,
          18
         ],
         "yaxis": "y"
        },
        {
         "customdata": [
          [
           "GIO"
          ],
          [
           "GIO"
          ],
          [
           "GIO"
          ],
          [
           "GIO"
          ]
         ],
         "hovertemplate": "Driver=%{customdata[0]}<br>Lap Number=%{x}<br>Track Temperature (°C)=%{y}<extra></extra>",
         "legendgroup": "GIO",
         "marker": {
          "color": "#ab63fa",
          "symbol": "circle"
         },
         "mode": "markers",
         "name": "GIO",
         "orientation": "v",
         "showlegend": true,
         "type": "scatter",
         "x": [
          27,
          32,
          33,
          40
         ],
         "xaxis": "x",
         "y": [
          15.2,
          15.9,
          18,
          17.9
         ],
         "yaxis": "y"
        },
        {
         "customdata": [
          [
           "LEC"
          ],
          [
           "LEC"
          ]
         ],
         "hovertemplate": "Driver=%{customdata[0]}<br>Lap Number=%{x}<br>Track Temperature (°C)=%{y}<extra></extra>",
         "legendgroup": "LEC",
         "marker": {
          "color": "#FFA15A",
          "symbol": "circle"
         },
         "mode": "markers",
         "name": "LEC",
         "orientation": "v",
         "showlegend": true,
         "type": "scatter",
         "x": [
          28,
          33
         ],
         "xaxis": "x",
         "y": [
          15.3,
          15.9
         ],
         "yaxis": "y"
        },
        {
         "customdata": [
          [
           "PER"
          ],
          [
           "PER"
          ]
         ],
         "hovertemplate": "Driver=%{customdata[0]}<br>Lap Number=%{x}<br>Track Temperature (°C)=%{y}<extra></extra>",
         "legendgroup": "PER",
         "marker": {
          "color": "#19d3f3",
          "symbol": "circle"
         },
         "mode": "markers",
         "name": "PER",
         "orientation": "v",
         "showlegend": true,
         "type": "scatter",
         "x": [
          28,
          33
         ],
         "xaxis": "x",
         "y": [
          15.3,
          15.9
         ],
         "yaxis": "y"
        },
        {
         "customdata": [
          [
           "NOR"
          ],
          [
           "NOR"
          ]
         ],
         "hovertemplate": "Driver=%{customdata[0]}<br>Lap Number=%{x}<br>Track Temperature (°C)=%{y}<extra></extra>",
         "legendgroup": "NOR",
         "marker": {
          "color": "#FF6692",
          "symbol": "circle"
         },
         "mode": "markers",
         "name": "NOR",
         "orientation": "v",
         "showlegend": true,
         "type": "scatter",
         "x": [
          28,
          33
         ],
         "xaxis": "x",
         "y": [
          15.3,
          15.9
         ],
         "yaxis": "y"
        },
        {
         "customdata": [
          [
           "BOT"
          ]
         ],
         "hovertemplate": "Driver=%{customdata[0]}<br>Lap Number=%{x}<br>Track Temperature (°C)=%{y}<extra></extra>",
         "legendgroup": "BOT",
         "marker": {
          "color": "#B6E880",
          "symbol": "circle"
         },
         "mode": "markers",
         "name": "BOT",
         "orientation": "v",
         "showlegend": true,
         "type": "scatter",
         "x": [
          28
         ],
         "xaxis": "x",
         "y": [
          15.4
         ],
         "yaxis": "y"
        },
        {
         "customdata": [
          [
           "ALO"
          ],
          [
           "ALO"
          ],
          [
           "ALO"
          ]
         ],
         "hovertemplate": "Driver=%{customdata[0]}<br>Lap Number=%{x}<br>Track Temperature (°C)=%{y}<extra></extra>",
         "legendgroup": "ALO",
         "marker": {
          "color": "#FF97FF",
          "symbol": "circle"
         },
         "mode": "markers",
         "name": "ALO",
         "orientation": "v",
         "showlegend": true,
         "type": "scatter",
         "x": [
          28,
          32,
          33
         ],
         "xaxis": "x",
         "y": [
          15.4,
          15.9,
          18
         ],
         "yaxis": "y"
        }
       ],
       "layout": {
        "legend": {
         "title": {
          "text": "Driver"
         },
         "tracegroupgap": 0
        },
        "template": {
         "data": {
          "bar": [
           {
            "error_x": {
             "color": "#2a3f5f"
            },
            "error_y": {
             "color": "#2a3f5f"
            },
            "marker": {
             "line": {
              "color": "#E5ECF6",
              "width": 0.5
             },
             "pattern": {
              "fillmode": "overlay",
              "size": 10,
              "solidity": 0.2
             }
            },
            "type": "bar"
           }
          ],
          "barpolar": [
           {
            "marker": {
             "line": {
              "color": "#E5ECF6",
              "width": 0.5
             },
             "pattern": {
              "fillmode": "overlay",
              "size": 10,
              "solidity": 0.2
             }
            },
            "type": "barpolar"
           }
          ],
          "carpet": [
           {
            "aaxis": {
             "endlinecolor": "#2a3f5f",
             "gridcolor": "white",
             "linecolor": "white",
             "minorgridcolor": "white",
             "startlinecolor": "#2a3f5f"
            },
            "baxis": {
             "endlinecolor": "#2a3f5f",
             "gridcolor": "white",
             "linecolor": "white",
             "minorgridcolor": "white",
             "startlinecolor": "#2a3f5f"
            },
            "type": "carpet"
           }
          ],
          "choropleth": [
           {
            "colorbar": {
             "outlinewidth": 0,
             "ticks": ""
            },
            "type": "choropleth"
           }
          ],
          "contour": [
           {
            "colorbar": {
             "outlinewidth": 0,
             "ticks": ""
            },
            "colorscale": [
             [
              0,
              "#0d0887"
             ],
             [
              0.1111111111111111,
              "#46039f"
             ],
             [
              0.2222222222222222,
              "#7201a8"
             ],
             [
              0.3333333333333333,
              "#9c179e"
             ],
             [
              0.4444444444444444,
              "#bd3786"
             ],
             [
              0.5555555555555556,
              "#d8576b"
             ],
             [
              0.6666666666666666,
              "#ed7953"
             ],
             [
              0.7777777777777778,
              "#fb9f3a"
             ],
             [
              0.8888888888888888,
              "#fdca26"
             ],
             [
              1,
              "#f0f921"
             ]
            ],
            "type": "contour"
           }
          ],
          "contourcarpet": [
           {
            "colorbar": {
             "outlinewidth": 0,
             "ticks": ""
            },
            "type": "contourcarpet"
           }
          ],
          "heatmap": [
           {
            "colorbar": {
             "outlinewidth": 0,
             "ticks": ""
            },
            "colorscale": [
             [
              0,
              "#0d0887"
             ],
             [
              0.1111111111111111,
              "#46039f"
             ],
             [
              0.2222222222222222,
              "#7201a8"
             ],
             [
              0.3333333333333333,
              "#9c179e"
             ],
             [
              0.4444444444444444,
              "#bd3786"
             ],
             [
              0.5555555555555556,
              "#d8576b"
             ],
             [
              0.6666666666666666,
              "#ed7953"
             ],
             [
              0.7777777777777778,
              "#fb9f3a"
             ],
             [
              0.8888888888888888,
              "#fdca26"
             ],
             [
              1,
              "#f0f921"
             ]
            ],
            "type": "heatmap"
           }
          ],
          "heatmapgl": [
           {
            "colorbar": {
             "outlinewidth": 0,
             "ticks": ""
            },
            "colorscale": [
             [
              0,
              "#0d0887"
             ],
             [
              0.1111111111111111,
              "#46039f"
             ],
             [
              0.2222222222222222,
              "#7201a8"
             ],
             [
              0.3333333333333333,
              "#9c179e"
             ],
             [
              0.4444444444444444,
              "#bd3786"
             ],
             [
              0.5555555555555556,
              "#d8576b"
             ],
             [
              0.6666666666666666,
              "#ed7953"
             ],
             [
              0.7777777777777778,
              "#fb9f3a"
             ],
             [
              0.8888888888888888,
              "#fdca26"
             ],
             [
              1,
              "#f0f921"
             ]
            ],
            "type": "heatmapgl"
           }
          ],
          "histogram": [
           {
            "marker": {
             "pattern": {
              "fillmode": "overlay",
              "size": 10,
              "solidity": 0.2
             }
            },
            "type": "histogram"
           }
          ],
          "histogram2d": [
           {
            "colorbar": {
             "outlinewidth": 0,
             "ticks": ""
            },
            "colorscale": [
             [
              0,
              "#0d0887"
             ],
             [
              0.1111111111111111,
              "#46039f"
             ],
             [
              0.2222222222222222,
              "#7201a8"
             ],
             [
              0.3333333333333333,
              "#9c179e"
             ],
             [
              0.4444444444444444,
              "#bd3786"
             ],
             [
              0.5555555555555556,
              "#d8576b"
             ],
             [
              0.6666666666666666,
              "#ed7953"
             ],
             [
              0.7777777777777778,
              "#fb9f3a"
             ],
             [
              0.8888888888888888,
              "#fdca26"
             ],
             [
              1,
              "#f0f921"
             ]
            ],
            "type": "histogram2d"
           }
          ],
          "histogram2dcontour": [
           {
            "colorbar": {
             "outlinewidth": 0,
             "ticks": ""
            },
            "colorscale": [
             [
              0,
              "#0d0887"
             ],
             [
              0.1111111111111111,
              "#46039f"
             ],
             [
              0.2222222222222222,
              "#7201a8"
             ],
             [
              0.3333333333333333,
              "#9c179e"
             ],
             [
              0.4444444444444444,
              "#bd3786"
             ],
             [
              0.5555555555555556,
              "#d8576b"
             ],
             [
              0.6666666666666666,
              "#ed7953"
             ],
             [
              0.7777777777777778,
              "#fb9f3a"
             ],
             [
              0.8888888888888888,
              "#fdca26"
             ],
             [
              1,
              "#f0f921"
             ]
            ],
            "type": "histogram2dcontour"
           }
          ],
          "mesh3d": [
           {
            "colorbar": {
             "outlinewidth": 0,
             "ticks": ""
            },
            "type": "mesh3d"
           }
          ],
          "parcoords": [
           {
            "line": {
             "colorbar": {
              "outlinewidth": 0,
              "ticks": ""
             }
            },
            "type": "parcoords"
           }
          ],
          "pie": [
           {
            "automargin": true,
            "type": "pie"
           }
          ],
          "scatter": [
           {
            "fillpattern": {
             "fillmode": "overlay",
             "size": 10,
             "solidity": 0.2
            },
            "type": "scatter"
           }
          ],
          "scatter3d": [
           {
            "line": {
             "colorbar": {
              "outlinewidth": 0,
              "ticks": ""
             }
            },
            "marker": {
             "colorbar": {
              "outlinewidth": 0,
              "ticks": ""
             }
            },
            "type": "scatter3d"
           }
          ],
          "scattercarpet": [
           {
            "marker": {
             "colorbar": {
              "outlinewidth": 0,
              "ticks": ""
             }
            },
            "type": "scattercarpet"
           }
          ],
          "scattergeo": [
           {
            "marker": {
             "colorbar": {
              "outlinewidth": 0,
              "ticks": ""
             }
            },
            "type": "scattergeo"
           }
          ],
          "scattergl": [
           {
            "marker": {
             "colorbar": {
              "outlinewidth": 0,
              "ticks": ""
             }
            },
            "type": "scattergl"
           }
          ],
          "scattermapbox": [
           {
            "marker": {
             "colorbar": {
              "outlinewidth": 0,
              "ticks": ""
             }
            },
            "type": "scattermapbox"
           }
          ],
          "scatterpolar": [
           {
            "marker": {
             "colorbar": {
              "outlinewidth": 0,
              "ticks": ""
             }
            },
            "type": "scatterpolar"
           }
          ],
          "scatterpolargl": [
           {
            "marker": {
             "colorbar": {
              "outlinewidth": 0,
              "ticks": ""
             }
            },
            "type": "scatterpolargl"
           }
          ],
          "scatterternary": [
           {
            "marker": {
             "colorbar": {
              "outlinewidth": 0,
              "ticks": ""
             }
            },
            "type": "scatterternary"
           }
          ],
          "surface": [
           {
            "colorbar": {
             "outlinewidth": 0,
             "ticks": ""
            },
            "colorscale": [
             [
              0,
              "#0d0887"
             ],
             [
              0.1111111111111111,
              "#46039f"
             ],
             [
              0.2222222222222222,
              "#7201a8"
             ],
             [
              0.3333333333333333,
              "#9c179e"
             ],
             [
              0.4444444444444444,
              "#bd3786"
             ],
             [
              0.5555555555555556,
              "#d8576b"
             ],
             [
              0.6666666666666666,
              "#ed7953"
             ],
             [
              0.7777777777777778,
              "#fb9f3a"
             ],
             [
              0.8888888888888888,
              "#fdca26"
             ],
             [
              1,
              "#f0f921"
             ]
            ],
            "type": "surface"
           }
          ],
          "table": [
           {
            "cells": {
             "fill": {
              "color": "#EBF0F8"
             },
             "line": {
              "color": "white"
             }
            },
            "header": {
             "fill": {
              "color": "#C8D4E3"
             },
             "line": {
              "color": "white"
             }
            },
            "type": "table"
           }
          ]
         },
         "layout": {
          "annotationdefaults": {
           "arrowcolor": "#2a3f5f",
           "arrowhead": 0,
           "arrowwidth": 1
          },
          "autotypenumbers": "strict",
          "coloraxis": {
           "colorbar": {
            "outlinewidth": 0,
            "ticks": ""
           }
          },
          "colorscale": {
           "diverging": [
            [
             0,
             "#8e0152"
            ],
            [
             0.1,
             "#c51b7d"
            ],
            [
             0.2,
             "#de77ae"
            ],
            [
             0.3,
             "#f1b6da"
            ],
            [
             0.4,
             "#fde0ef"
            ],
            [
             0.5,
             "#f7f7f7"
            ],
            [
             0.6,
             "#e6f5d0"
            ],
            [
             0.7,
             "#b8e186"
            ],
            [
             0.8,
             "#7fbc41"
            ],
            [
             0.9,
             "#4d9221"
            ],
            [
             1,
             "#276419"
            ]
           ],
           "sequential": [
            [
             0,
             "#0d0887"
            ],
            [
             0.1111111111111111,
             "#46039f"
            ],
            [
             0.2222222222222222,
             "#7201a8"
            ],
            [
             0.3333333333333333,
             "#9c179e"
            ],
            [
             0.4444444444444444,
             "#bd3786"
            ],
            [
             0.5555555555555556,
             "#d8576b"
            ],
            [
             0.6666666666666666,
             "#ed7953"
            ],
            [
             0.7777777777777778,
             "#fb9f3a"
            ],
            [
             0.8888888888888888,
             "#fdca26"
            ],
            [
             1,
             "#f0f921"
            ]
           ],
           "sequentialminus": [
            [
             0,
             "#0d0887"
            ],
            [
             0.1111111111111111,
             "#46039f"
            ],
            [
             0.2222222222222222,
             "#7201a8"
            ],
            [
             0.3333333333333333,
             "#9c179e"
            ],
            [
             0.4444444444444444,
             "#bd3786"
            ],
            [
             0.5555555555555556,
             "#d8576b"
            ],
            [
             0.6666666666666666,
             "#ed7953"
            ],
            [
             0.7777777777777778,
             "#fb9f3a"
            ],
            [
             0.8888888888888888,
             "#fdca26"
            ],
            [
             1,
             "#f0f921"
            ]
           ]
          },
          "colorway": [
           "#636efa",
           "#EF553B",
           "#00cc96",
           "#ab63fa",
           "#FFA15A",
           "#19d3f3",
           "#FF6692",
           "#B6E880",
           "#FF97FF",
           "#FECB52"
          ],
          "font": {
           "color": "#2a3f5f"
          },
          "geo": {
           "bgcolor": "white",
           "lakecolor": "white",
           "landcolor": "#E5ECF6",
           "showlakes": true,
           "showland": true,
           "subunitcolor": "white"
          },
          "hoverlabel": {
           "align": "left"
          },
          "hovermode": "closest",
          "mapbox": {
           "style": "light"
          },
          "paper_bgcolor": "white",
          "plot_bgcolor": "#E5ECF6",
          "polar": {
           "angularaxis": {
            "gridcolor": "white",
            "linecolor": "white",
            "ticks": ""
           },
           "bgcolor": "#E5ECF6",
           "radialaxis": {
            "gridcolor": "white",
            "linecolor": "white",
            "ticks": ""
           }
          },
          "scene": {
           "xaxis": {
            "backgroundcolor": "#E5ECF6",
            "gridcolor": "white",
            "gridwidth": 2,
            "linecolor": "white",
            "showbackground": true,
            "ticks": "",
            "zerolinecolor": "white"
           },
           "yaxis": {
            "backgroundcolor": "#E5ECF6",
            "gridcolor": "white",
            "gridwidth": 2,
            "linecolor": "white",
            "showbackground": true,
            "ticks": "",
            "zerolinecolor": "white"
           },
           "zaxis": {
            "backgroundcolor": "#E5ECF6",
            "gridcolor": "white",
            "gridwidth": 2,
            "linecolor": "white",
            "showbackground": true,
            "ticks": "",
            "zerolinecolor": "white"
           }
          },
          "shapedefaults": {
           "line": {
            "color": "#2a3f5f"
           }
          },
          "ternary": {
           "aaxis": {
            "gridcolor": "white",
            "linecolor": "white",
            "ticks": ""
           },
           "baxis": {
            "gridcolor": "white",
            "linecolor": "white",
            "ticks": ""
           },
           "bgcolor": "#E5ECF6",
           "caxis": {
            "gridcolor": "white",
            "linecolor": "white",
            "ticks": ""
           }
          },
          "title": {
           "x": 0.05
          },
          "xaxis": {
           "automargin": true,
           "gridcolor": "white",
           "linecolor": "white",
           "ticks": "",
           "title": {
            "standoff": 15
           },
           "zerolinecolor": "white",
           "zerolinewidth": 2
          },
          "yaxis": {
           "automargin": true,
           "gridcolor": "white",
           "linecolor": "white",
           "ticks": "",
           "title": {
            "standoff": 15
           },
           "zerolinecolor": "white",
           "zerolinewidth": 2
          }
         }
        },
        "title": {
         "text": "Track Temperature at Pit Stops by Driver"
        },
        "xaxis": {
         "anchor": "y",
         "domain": [
          0,
          1
         ],
         "title": {
          "text": "Lap Number"
         }
        },
        "yaxis": {
         "anchor": "x",
         "domain": [
          0,
          1
         ],
         "title": {
          "text": "Track Temperature (°C)"
         }
        }
       }
      }
     },
     "metadata": {},
     "output_type": "display_data"
    }
   ],
   "source": [
    "# Identify pit stops\n",
    "laps['Pitted'] = laps['PitInTime'].notna()\n",
    "\n",
    "# Filter to get only the laps where a pit stop occurred\n",
    "pit_stops = laps[laps['Pitted']][['Driver', 'LapNumber', 'Time']]\n",
    "\n",
    "# Merge laps data with weather data to include Track Temperature\n",
    "merged_data = pd.merge_asof(\n",
    "    pit_stops.sort_values('Time'),\n",
    "    weather.sort_values('Time'),\n",
    "    left_on='Time',\n",
    "    right_on='Time',  # Align based on time\n",
    ")\n",
    "\n",
    "# Include Track Temperature in the DataFrame\n",
    "merged_data = merged_data[['Driver', 'LapNumber', 'TrackTemp']]\n",
    "\n",
    "# Create the Plot\n",
    "fig = px.scatter(\n",
    "    merged_data,\n",
    "    x='LapNumber',\n",
    "    y='TrackTemp',\n",
    "    color='Driver',\n",
    "    title='Track Temperature at Pit Stops by Driver',\n",
    "    labels={'LapNumber': 'Lap Number', 'TrackTemp': 'Track Temperature (°C)'},\n",
    "    hover_data=['Driver']\n",
    ")\n",
    "\n",
    "# Show the plot\n",
    "fig.show()\n"
   ]
  },
  {
   "cell_type": "markdown",
   "id": "194c009d",
   "metadata": {},
   "source": [
    "The scatter plot shows track temperature varied at the time of pit stops for different drivers. It displays how often drivers do pit stops based on the Track Temperature. You can analyze how track temperature changes throughout the race. For instance, if the track temperature consistently increases or decreases as the race goes on, it may impact tire performance and pit strategies. If the track temperature is higher there would be increased pit stops as the track temp runs down the wheels more. However, when the Track Temperature is cooler it runs the wheel less meaning the drivers are less likely to stop for a pit. By finding these patterns, teams and analysts can make informed decisions about tire strategies and pit stop timing in future races.\n"
   ]
  },
  {
   "cell_type": "code",
   "execution_count": 32,
   "id": "1d72fe8a-1c05-4ebd-a8bd-24ba6085e71a",
   "metadata": {},
   "outputs": [
    {
     "name": "stderr",
     "output_type": "stream",
     "text": [
      "/var/folders/qm/kb15jq7d5kvf69_hpz651m1h0000gn/T/ipykernel_48308/3590394635.py:2: SettingWithCopyWarning:\n",
      "\n",
      "\n",
      "A value is trying to be set on a copy of a slice from a DataFrame.\n",
      "Try using .loc[row_indexer,col_indexer] = value instead\n",
      "\n",
      "See the caveats in the documentation: https://pandas.pydata.org/pandas-docs/stable/user_guide/indexing.html#returning-a-view-versus-a-copy\n",
      "\n"
     ]
    },
    {
     "data": {
      "application/vnd.plotly.v1+json": {
       "config": {
        "plotlyServerURL": "https://plot.ly"
       },
       "data": [
        {
         "customdata": [
          [
           "OCO",
           "Wet"
          ],
          [
           "VET",
           "Wet"
          ],
          [
           "MSC",
           "Wet"
          ],
          [
           "MAZ",
           "Wet"
          ],
          [
           "GAS",
           "Wet"
          ]
         ],
         "hovertemplate": "RainPeriod=%{customdata[1]}<br>Lap Number=%{x}<br>Tire Compound=%{y}<br>Driver=%{customdata[0]}<extra></extra>",
         "legendgroup": "Wet",
         "marker": {
          "color": "#636efa",
          "symbol": "circle"
         },
         "mode": "markers",
         "name": "Wet",
         "orientation": "h",
         "showlegend": true,
         "type": "scatter",
         "x": [
          1,
          3,
          5,
          12,
          14
         ],
         "xaxis": "x",
         "y": [
          "WET",
          "INTERMEDIATE",
          "WET",
          "WET",
          "WET"
         ],
         "yaxis": "y"
        },
        {
         "customdata": [
          [
           "VET",
           "Dry"
          ],
          [
           "MSC",
           "Dry"
          ],
          [
           "VET",
           "Dry"
          ],
          [
           "MAZ",
           "Dry"
          ],
          [
           "TSU",
           "Dry"
          ],
          [
           "RUS",
           "Dry"
          ],
          [
           "RAI",
           "Dry"
          ],
          [
           "VER",
           "Dry"
          ],
          [
           "GAS",
           "Dry"
          ],
          [
           "SAI",
           "Dry"
          ],
          [
           "RIC",
           "Dry"
          ],
          [
           "STR",
           "Dry"
          ],
          [
           "HAM",
           "Dry"
          ],
          [
           "GIO",
           "Dry"
          ],
          [
           "OCO",
           "Dry"
          ],
          [
           "LEC",
           "Dry"
          ],
          [
           "PER",
           "Dry"
          ],
          [
           "NOR",
           "Dry"
          ],
          [
           "BOT",
           "Dry"
          ],
          [
           "ALO",
           "Dry"
          ],
          [
           "HAM",
           "Dry"
          ],
          [
           "OCO",
           "Dry"
          ],
          [
           "VER",
           "Dry"
          ],
          [
           "STR",
           "Dry"
          ],
          [
           "RAI",
           "Dry"
          ],
          [
           "HAM",
           "Dry"
          ],
          [
           "MSC",
           "Dry"
          ],
          [
           "TSU",
           "Dry"
          ],
          [
           "GIO",
           "Dry"
          ],
          [
           "LEC",
           "Dry"
          ],
          [
           "ALO",
           "Dry"
          ],
          [
           "OCO",
           "Dry"
          ],
          [
           "MAZ",
           "Dry"
          ],
          [
           "NOR",
           "Dry"
          ],
          [
           "PER",
           "Dry"
          ],
          [
           "SAI",
           "Dry"
          ],
          [
           "GAS",
           "Dry"
          ],
          [
           "VET",
           "Dry"
          ],
          [
           "RIC",
           "Dry"
          ],
          [
           "STR",
           "Dry"
          ],
          [
           "RAI",
           "Dry"
          ],
          [
           "HAM",
           "Dry"
          ],
          [
           "TSU",
           "Dry"
          ],
          [
           "GIO",
           "Dry"
          ],
          [
           "ALO",
           "Dry"
          ],
          [
           "OCO",
           "Dry"
          ],
          [
           "GAS",
           "Dry"
          ],
          [
           "VET",
           "Dry"
          ],
          [
           "MSC",
           "Dry"
          ],
          [
           "MAZ",
           "Dry"
          ],
          [
           "GIO",
           "Dry"
          ],
          [
           "VET",
           "Dry"
          ]
         ],
         "hovertemplate": "RainPeriod=%{customdata[1]}<br>Lap Number=%{x}<br>Tire Compound=%{y}<br>Driver=%{customdata[0]}<extra></extra>",
         "legendgroup": "Dry",
         "marker": {
          "color": "#EF553B",
          "symbol": "circle"
         },
         "mode": "markers",
         "name": "Dry",
         "orientation": "h",
         "showlegend": true,
         "type": "scatter",
         "x": [
          20,
          21,
          22,
          23,
          25,
          26,
          26,
          27,
          26,
          27,
          27,
          27,
          28,
          27,
          27,
          28,
          28,
          28,
          28,
          28,
          31,
          31,
          33,
          32,
          32,
          32,
          31,
          32,
          32,
          33,
          32,
          32,
          31,
          33,
          33,
          33,
          32,
          32,
          33,
          33,
          33,
          33,
          33,
          33,
          33,
          33,
          33,
          33,
          32,
          32,
          40,
          61
         ],
         "xaxis": "x",
         "y": [
          "INTERMEDIATE",
          "INTERMEDIATE",
          "MEDIUM",
          "INTERMEDIATE",
          "INTERMEDIATE",
          "INTERMEDIATE",
          "INTERMEDIATE",
          "INTERMEDIATE",
          "INTERMEDIATE",
          "INTERMEDIATE",
          "INTERMEDIATE",
          "INTERMEDIATE",
          "INTERMEDIATE",
          "INTERMEDIATE",
          "INTERMEDIATE",
          "INTERMEDIATE",
          "INTERMEDIATE",
          "INTERMEDIATE",
          "INTERMEDIATE",
          "INTERMEDIATE",
          "MEDIUM",
          "MEDIUM",
          "MEDIUM",
          "MEDIUM",
          "MEDIUM",
          "MEDIUM",
          "SOFT",
          "MEDIUM",
          "MEDIUM",
          "MEDIUM",
          "MEDIUM",
          "SOFT",
          "SOFT",
          "MEDIUM",
          "MEDIUM",
          "MEDIUM",
          "MEDIUM",
          "MEDIUM",
          "MEDIUM",
          "MEDIUM",
          "MEDIUM",
          "MEDIUM",
          "SOFT",
          "MEDIUM",
          "MEDIUM",
          "MEDIUM",
          "MEDIUM",
          "SOFT",
          "MEDIUM",
          "MEDIUM",
          "MEDIUM",
          "SOFT"
         ],
         "yaxis": "y"
        }
       ],
       "layout": {
        "legend": {
         "title": {
          "text": "RainPeriod"
         },
         "tracegroupgap": 0
        },
        "template": {
         "data": {
          "bar": [
           {
            "error_x": {
             "color": "#2a3f5f"
            },
            "error_y": {
             "color": "#2a3f5f"
            },
            "marker": {
             "line": {
              "color": "#E5ECF6",
              "width": 0.5
             },
             "pattern": {
              "fillmode": "overlay",
              "size": 10,
              "solidity": 0.2
             }
            },
            "type": "bar"
           }
          ],
          "barpolar": [
           {
            "marker": {
             "line": {
              "color": "#E5ECF6",
              "width": 0.5
             },
             "pattern": {
              "fillmode": "overlay",
              "size": 10,
              "solidity": 0.2
             }
            },
            "type": "barpolar"
           }
          ],
          "carpet": [
           {
            "aaxis": {
             "endlinecolor": "#2a3f5f",
             "gridcolor": "white",
             "linecolor": "white",
             "minorgridcolor": "white",
             "startlinecolor": "#2a3f5f"
            },
            "baxis": {
             "endlinecolor": "#2a3f5f",
             "gridcolor": "white",
             "linecolor": "white",
             "minorgridcolor": "white",
             "startlinecolor": "#2a3f5f"
            },
            "type": "carpet"
           }
          ],
          "choropleth": [
           {
            "colorbar": {
             "outlinewidth": 0,
             "ticks": ""
            },
            "type": "choropleth"
           }
          ],
          "contour": [
           {
            "colorbar": {
             "outlinewidth": 0,
             "ticks": ""
            },
            "colorscale": [
             [
              0,
              "#0d0887"
             ],
             [
              0.1111111111111111,
              "#46039f"
             ],
             [
              0.2222222222222222,
              "#7201a8"
             ],
             [
              0.3333333333333333,
              "#9c179e"
             ],
             [
              0.4444444444444444,
              "#bd3786"
             ],
             [
              0.5555555555555556,
              "#d8576b"
             ],
             [
              0.6666666666666666,
              "#ed7953"
             ],
             [
              0.7777777777777778,
              "#fb9f3a"
             ],
             [
              0.8888888888888888,
              "#fdca26"
             ],
             [
              1,
              "#f0f921"
             ]
            ],
            "type": "contour"
           }
          ],
          "contourcarpet": [
           {
            "colorbar": {
             "outlinewidth": 0,
             "ticks": ""
            },
            "type": "contourcarpet"
           }
          ],
          "heatmap": [
           {
            "colorbar": {
             "outlinewidth": 0,
             "ticks": ""
            },
            "colorscale": [
             [
              0,
              "#0d0887"
             ],
             [
              0.1111111111111111,
              "#46039f"
             ],
             [
              0.2222222222222222,
              "#7201a8"
             ],
             [
              0.3333333333333333,
              "#9c179e"
             ],
             [
              0.4444444444444444,
              "#bd3786"
             ],
             [
              0.5555555555555556,
              "#d8576b"
             ],
             [
              0.6666666666666666,
              "#ed7953"
             ],
             [
              0.7777777777777778,
              "#fb9f3a"
             ],
             [
              0.8888888888888888,
              "#fdca26"
             ],
             [
              1,
              "#f0f921"
             ]
            ],
            "type": "heatmap"
           }
          ],
          "heatmapgl": [
           {
            "colorbar": {
             "outlinewidth": 0,
             "ticks": ""
            },
            "colorscale": [
             [
              0,
              "#0d0887"
             ],
             [
              0.1111111111111111,
              "#46039f"
             ],
             [
              0.2222222222222222,
              "#7201a8"
             ],
             [
              0.3333333333333333,
              "#9c179e"
             ],
             [
              0.4444444444444444,
              "#bd3786"
             ],
             [
              0.5555555555555556,
              "#d8576b"
             ],
             [
              0.6666666666666666,
              "#ed7953"
             ],
             [
              0.7777777777777778,
              "#fb9f3a"
             ],
             [
              0.8888888888888888,
              "#fdca26"
             ],
             [
              1,
              "#f0f921"
             ]
            ],
            "type": "heatmapgl"
           }
          ],
          "histogram": [
           {
            "marker": {
             "pattern": {
              "fillmode": "overlay",
              "size": 10,
              "solidity": 0.2
             }
            },
            "type": "histogram"
           }
          ],
          "histogram2d": [
           {
            "colorbar": {
             "outlinewidth": 0,
             "ticks": ""
            },
            "colorscale": [
             [
              0,
              "#0d0887"
             ],
             [
              0.1111111111111111,
              "#46039f"
             ],
             [
              0.2222222222222222,
              "#7201a8"
             ],
             [
              0.3333333333333333,
              "#9c179e"
             ],
             [
              0.4444444444444444,
              "#bd3786"
             ],
             [
              0.5555555555555556,
              "#d8576b"
             ],
             [
              0.6666666666666666,
              "#ed7953"
             ],
             [
              0.7777777777777778,
              "#fb9f3a"
             ],
             [
              0.8888888888888888,
              "#fdca26"
             ],
             [
              1,
              "#f0f921"
             ]
            ],
            "type": "histogram2d"
           }
          ],
          "histogram2dcontour": [
           {
            "colorbar": {
             "outlinewidth": 0,
             "ticks": ""
            },
            "colorscale": [
             [
              0,
              "#0d0887"
             ],
             [
              0.1111111111111111,
              "#46039f"
             ],
             [
              0.2222222222222222,
              "#7201a8"
             ],
             [
              0.3333333333333333,
              "#9c179e"
             ],
             [
              0.4444444444444444,
              "#bd3786"
             ],
             [
              0.5555555555555556,
              "#d8576b"
             ],
             [
              0.6666666666666666,
              "#ed7953"
             ],
             [
              0.7777777777777778,
              "#fb9f3a"
             ],
             [
              0.8888888888888888,
              "#fdca26"
             ],
             [
              1,
              "#f0f921"
             ]
            ],
            "type": "histogram2dcontour"
           }
          ],
          "mesh3d": [
           {
            "colorbar": {
             "outlinewidth": 0,
             "ticks": ""
            },
            "type": "mesh3d"
           }
          ],
          "parcoords": [
           {
            "line": {
             "colorbar": {
              "outlinewidth": 0,
              "ticks": ""
             }
            },
            "type": "parcoords"
           }
          ],
          "pie": [
           {
            "automargin": true,
            "type": "pie"
           }
          ],
          "scatter": [
           {
            "fillpattern": {
             "fillmode": "overlay",
             "size": 10,
             "solidity": 0.2
            },
            "type": "scatter"
           }
          ],
          "scatter3d": [
           {
            "line": {
             "colorbar": {
              "outlinewidth": 0,
              "ticks": ""
             }
            },
            "marker": {
             "colorbar": {
              "outlinewidth": 0,
              "ticks": ""
             }
            },
            "type": "scatter3d"
           }
          ],
          "scattercarpet": [
           {
            "marker": {
             "colorbar": {
              "outlinewidth": 0,
              "ticks": ""
             }
            },
            "type": "scattercarpet"
           }
          ],
          "scattergeo": [
           {
            "marker": {
             "colorbar": {
              "outlinewidth": 0,
              "ticks": ""
             }
            },
            "type": "scattergeo"
           }
          ],
          "scattergl": [
           {
            "marker": {
             "colorbar": {
              "outlinewidth": 0,
              "ticks": ""
             }
            },
            "type": "scattergl"
           }
          ],
          "scattermapbox": [
           {
            "marker": {
             "colorbar": {
              "outlinewidth": 0,
              "ticks": ""
             }
            },
            "type": "scattermapbox"
           }
          ],
          "scatterpolar": [
           {
            "marker": {
             "colorbar": {
              "outlinewidth": 0,
              "ticks": ""
             }
            },
            "type": "scatterpolar"
           }
          ],
          "scatterpolargl": [
           {
            "marker": {
             "colorbar": {
              "outlinewidth": 0,
              "ticks": ""
             }
            },
            "type": "scatterpolargl"
           }
          ],
          "scatterternary": [
           {
            "marker": {
             "colorbar": {
              "outlinewidth": 0,
              "ticks": ""
             }
            },
            "type": "scatterternary"
           }
          ],
          "surface": [
           {
            "colorbar": {
             "outlinewidth": 0,
             "ticks": ""
            },
            "colorscale": [
             [
              0,
              "#0d0887"
             ],
             [
              0.1111111111111111,
              "#46039f"
             ],
             [
              0.2222222222222222,
              "#7201a8"
             ],
             [
              0.3333333333333333,
              "#9c179e"
             ],
             [
              0.4444444444444444,
              "#bd3786"
             ],
             [
              0.5555555555555556,
              "#d8576b"
             ],
             [
              0.6666666666666666,
              "#ed7953"
             ],
             [
              0.7777777777777778,
              "#fb9f3a"
             ],
             [
              0.8888888888888888,
              "#fdca26"
             ],
             [
              1,
              "#f0f921"
             ]
            ],
            "type": "surface"
           }
          ],
          "table": [
           {
            "cells": {
             "fill": {
              "color": "#EBF0F8"
             },
             "line": {
              "color": "white"
             }
            },
            "header": {
             "fill": {
              "color": "#C8D4E3"
             },
             "line": {
              "color": "white"
             }
            },
            "type": "table"
           }
          ]
         },
         "layout": {
          "annotationdefaults": {
           "arrowcolor": "#2a3f5f",
           "arrowhead": 0,
           "arrowwidth": 1
          },
          "autotypenumbers": "strict",
          "coloraxis": {
           "colorbar": {
            "outlinewidth": 0,
            "ticks": ""
           }
          },
          "colorscale": {
           "diverging": [
            [
             0,
             "#8e0152"
            ],
            [
             0.1,
             "#c51b7d"
            ],
            [
             0.2,
             "#de77ae"
            ],
            [
             0.3,
             "#f1b6da"
            ],
            [
             0.4,
             "#fde0ef"
            ],
            [
             0.5,
             "#f7f7f7"
            ],
            [
             0.6,
             "#e6f5d0"
            ],
            [
             0.7,
             "#b8e186"
            ],
            [
             0.8,
             "#7fbc41"
            ],
            [
             0.9,
             "#4d9221"
            ],
            [
             1,
             "#276419"
            ]
           ],
           "sequential": [
            [
             0,
             "#0d0887"
            ],
            [
             0.1111111111111111,
             "#46039f"
            ],
            [
             0.2222222222222222,
             "#7201a8"
            ],
            [
             0.3333333333333333,
             "#9c179e"
            ],
            [
             0.4444444444444444,
             "#bd3786"
            ],
            [
             0.5555555555555556,
             "#d8576b"
            ],
            [
             0.6666666666666666,
             "#ed7953"
            ],
            [
             0.7777777777777778,
             "#fb9f3a"
            ],
            [
             0.8888888888888888,
             "#fdca26"
            ],
            [
             1,
             "#f0f921"
            ]
           ],
           "sequentialminus": [
            [
             0,
             "#0d0887"
            ],
            [
             0.1111111111111111,
             "#46039f"
            ],
            [
             0.2222222222222222,
             "#7201a8"
            ],
            [
             0.3333333333333333,
             "#9c179e"
            ],
            [
             0.4444444444444444,
             "#bd3786"
            ],
            [
             0.5555555555555556,
             "#d8576b"
            ],
            [
             0.6666666666666666,
             "#ed7953"
            ],
            [
             0.7777777777777778,
             "#fb9f3a"
            ],
            [
             0.8888888888888888,
             "#fdca26"
            ],
            [
             1,
             "#f0f921"
            ]
           ]
          },
          "colorway": [
           "#636efa",
           "#EF553B",
           "#00cc96",
           "#ab63fa",
           "#FFA15A",
           "#19d3f3",
           "#FF6692",
           "#B6E880",
           "#FF97FF",
           "#FECB52"
          ],
          "font": {
           "color": "#2a3f5f"
          },
          "geo": {
           "bgcolor": "white",
           "lakecolor": "white",
           "landcolor": "#E5ECF6",
           "showlakes": true,
           "showland": true,
           "subunitcolor": "white"
          },
          "hoverlabel": {
           "align": "left"
          },
          "hovermode": "closest",
          "mapbox": {
           "style": "light"
          },
          "paper_bgcolor": "white",
          "plot_bgcolor": "#E5ECF6",
          "polar": {
           "angularaxis": {
            "gridcolor": "white",
            "linecolor": "white",
            "ticks": ""
           },
           "bgcolor": "#E5ECF6",
           "radialaxis": {
            "gridcolor": "white",
            "linecolor": "white",
            "ticks": ""
           }
          },
          "scene": {
           "xaxis": {
            "backgroundcolor": "#E5ECF6",
            "gridcolor": "white",
            "gridwidth": 2,
            "linecolor": "white",
            "showbackground": true,
            "ticks": "",
            "zerolinecolor": "white"
           },
           "yaxis": {
            "backgroundcolor": "#E5ECF6",
            "gridcolor": "white",
            "gridwidth": 2,
            "linecolor": "white",
            "showbackground": true,
            "ticks": "",
            "zerolinecolor": "white"
           },
           "zaxis": {
            "backgroundcolor": "#E5ECF6",
            "gridcolor": "white",
            "gridwidth": 2,
            "linecolor": "white",
            "showbackground": true,
            "ticks": "",
            "zerolinecolor": "white"
           }
          },
          "shapedefaults": {
           "line": {
            "color": "#2a3f5f"
           }
          },
          "ternary": {
           "aaxis": {
            "gridcolor": "white",
            "linecolor": "white",
            "ticks": ""
           },
           "baxis": {
            "gridcolor": "white",
            "linecolor": "white",
            "ticks": ""
           },
           "bgcolor": "#E5ECF6",
           "caxis": {
            "gridcolor": "white",
            "linecolor": "white",
            "ticks": ""
           }
          },
          "title": {
           "x": 0.05
          },
          "xaxis": {
           "automargin": true,
           "gridcolor": "white",
           "linecolor": "white",
           "ticks": "",
           "title": {
            "standoff": 15
           },
           "zerolinecolor": "white",
           "zerolinewidth": 2
          },
          "yaxis": {
           "automargin": true,
           "gridcolor": "white",
           "linecolor": "white",
           "ticks": "",
           "title": {
            "standoff": 15
           },
           "zerolinecolor": "white",
           "zerolinewidth": 2
          }
         }
        },
        "title": {
         "text": "Driver Compound during Race Laps Colored by Rain Period"
        },
        "xaxis": {
         "anchor": "y",
         "domain": [
          0,
          1
         ],
         "title": {
          "text": "Lap Number"
         }
        },
        "yaxis": {
         "anchor": "x",
         "domain": [
          0,
          1
         ],
         "title": {
          "text": "Tire Compound"
         }
        }
       }
      }
     },
     "metadata": {},
     "output_type": "display_data"
    }
   ],
   "source": [
    "# Identify pit stops\n",
    "laps['Pitted'] = laps['PitInTime'].notna()\n",
    "\n",
    "# Filter to get only the laps where a pit stop occurred\n",
    "pit_stops = laps[laps['Pitted']][['Driver', 'LapNumber', 'Time', 'Compound']]\n",
    "\n",
    "# Merge laps data with weather data to include Rain Period\n",
    "merged_data = pd.merge_asof(\n",
    "    pit_stops.sort_values('Time'),\n",
    "    weather.sort_values('Time'),\n",
    "    left_on='Time',\n",
    "    right_on='Time',  # Align based on time\n",
    ")\n",
    "\n",
    "# Add Rain Period to the DataFrame\n",
    "merged_data['RainPeriod'] = merged_data['Rainfall'].apply(lambda x: 'Wet' if x > 0 else 'Dry')\n",
    "\n",
    "# Create the Plot as a scatter plot\n",
    "fig = px.scatter(\n",
    "    merged_data,\n",
    "    x='LapNumber',\n",
    "    y='Compound',\n",
    "    color='RainPeriod',\n",
    "    title='Driver Compound during Race Laps Colored by Rain Period',\n",
    "    labels={'LapNumber': 'Lap Number', 'Compound': 'Tire Compound'},\n",
    "    hover_data=['Driver', 'RainPeriod']  \n",
    ")\n",
    "\n",
    "# Show the plot\n",
    "fig.show()\n"
   ]
  },
  {
   "cell_type": "markdown",
   "id": "d690213e",
   "metadata": {},
   "source": [
    "The scatter plot shows how different drivers managed their tire choices during the race in relation to changing weather conditions. It is clear of the distribution of tire compounds during different laps, where you can analyze how weather conditions influenced tire strategy. For example, the driver can use the wet compound during the lap when there is rainfall and predict when it is going to stop to then switch during their pit to have a better compound for when it is dry. It makes it so that drivers adapt their strategy based on the rain conditions. Understanding the impact of rain periods on tire selection can help with pit strategies in response to rain and other weather anomalies. \n"
   ]
  },
  {
   "cell_type": "code",
   "execution_count": 33,
   "id": "3e889e18-5c61-4354-80cd-bf953eb9ae49",
   "metadata": {},
   "outputs": [
    {
     "data": {
      "application/vnd.plotly.v1+json": {
       "config": {
        "plotlyServerURL": "https://plot.ly"
       },
       "data": [
        {
         "marker": {
          "color": "blue"
         },
         "name": "Start Position",
         "type": "bar",
         "x": [
          "GAS",
          "PER",
          "ALO",
          "LEC",
          "STR",
          "TSU",
          "RIC",
          "OCO",
          "VER",
          "NOR",
          "HAM",
          "SAI",
          "RAI"
         ],
         "y": [
          7,
          5,
          18,
          4,
          8,
          16,
          6,
          15,
          1,
          10,
          3,
          9,
          13
         ]
        },
        {
         "marker": {
          "color": "red"
         },
         "name": "End Position",
         "type": "bar",
         "x": [
          "GAS",
          "PER",
          "ALO",
          "LEC",
          "STR",
          "TSU",
          "RIC",
          "OCO",
          "VER",
          "NOR",
          "HAM",
          "SAI",
          "RAI"
         ],
         "y": [
          8,
          12,
          11,
          4,
          7,
          13,
          6,
          10,
          1,
          3,
          2,
          5,
          9
         ]
        }
       ],
       "layout": {
        "barmode": "group",
        "legend": {
         "title": {
          "text": "Position Type"
         }
        },
        "template": {
         "data": {
          "bar": [
           {
            "error_x": {
             "color": "#2a3f5f"
            },
            "error_y": {
             "color": "#2a3f5f"
            },
            "marker": {
             "line": {
              "color": "#E5ECF6",
              "width": 0.5
             },
             "pattern": {
              "fillmode": "overlay",
              "size": 10,
              "solidity": 0.2
             }
            },
            "type": "bar"
           }
          ],
          "barpolar": [
           {
            "marker": {
             "line": {
              "color": "#E5ECF6",
              "width": 0.5
             },
             "pattern": {
              "fillmode": "overlay",
              "size": 10,
              "solidity": 0.2
             }
            },
            "type": "barpolar"
           }
          ],
          "carpet": [
           {
            "aaxis": {
             "endlinecolor": "#2a3f5f",
             "gridcolor": "white",
             "linecolor": "white",
             "minorgridcolor": "white",
             "startlinecolor": "#2a3f5f"
            },
            "baxis": {
             "endlinecolor": "#2a3f5f",
             "gridcolor": "white",
             "linecolor": "white",
             "minorgridcolor": "white",
             "startlinecolor": "#2a3f5f"
            },
            "type": "carpet"
           }
          ],
          "choropleth": [
           {
            "colorbar": {
             "outlinewidth": 0,
             "ticks": ""
            },
            "type": "choropleth"
           }
          ],
          "contour": [
           {
            "colorbar": {
             "outlinewidth": 0,
             "ticks": ""
            },
            "colorscale": [
             [
              0,
              "#0d0887"
             ],
             [
              0.1111111111111111,
              "#46039f"
             ],
             [
              0.2222222222222222,
              "#7201a8"
             ],
             [
              0.3333333333333333,
              "#9c179e"
             ],
             [
              0.4444444444444444,
              "#bd3786"
             ],
             [
              0.5555555555555556,
              "#d8576b"
             ],
             [
              0.6666666666666666,
              "#ed7953"
             ],
             [
              0.7777777777777778,
              "#fb9f3a"
             ],
             [
              0.8888888888888888,
              "#fdca26"
             ],
             [
              1,
              "#f0f921"
             ]
            ],
            "type": "contour"
           }
          ],
          "contourcarpet": [
           {
            "colorbar": {
             "outlinewidth": 0,
             "ticks": ""
            },
            "type": "contourcarpet"
           }
          ],
          "heatmap": [
           {
            "colorbar": {
             "outlinewidth": 0,
             "ticks": ""
            },
            "colorscale": [
             [
              0,
              "#0d0887"
             ],
             [
              0.1111111111111111,
              "#46039f"
             ],
             [
              0.2222222222222222,
              "#7201a8"
             ],
             [
              0.3333333333333333,
              "#9c179e"
             ],
             [
              0.4444444444444444,
              "#bd3786"
             ],
             [
              0.5555555555555556,
              "#d8576b"
             ],
             [
              0.6666666666666666,
              "#ed7953"
             ],
             [
              0.7777777777777778,
              "#fb9f3a"
             ],
             [
              0.8888888888888888,
              "#fdca26"
             ],
             [
              1,
              "#f0f921"
             ]
            ],
            "type": "heatmap"
           }
          ],
          "heatmapgl": [
           {
            "colorbar": {
             "outlinewidth": 0,
             "ticks": ""
            },
            "colorscale": [
             [
              0,
              "#0d0887"
             ],
             [
              0.1111111111111111,
              "#46039f"
             ],
             [
              0.2222222222222222,
              "#7201a8"
             ],
             [
              0.3333333333333333,
              "#9c179e"
             ],
             [
              0.4444444444444444,
              "#bd3786"
             ],
             [
              0.5555555555555556,
              "#d8576b"
             ],
             [
              0.6666666666666666,
              "#ed7953"
             ],
             [
              0.7777777777777778,
              "#fb9f3a"
             ],
             [
              0.8888888888888888,
              "#fdca26"
             ],
             [
              1,
              "#f0f921"
             ]
            ],
            "type": "heatmapgl"
           }
          ],
          "histogram": [
           {
            "marker": {
             "pattern": {
              "fillmode": "overlay",
              "size": 10,
              "solidity": 0.2
             }
            },
            "type": "histogram"
           }
          ],
          "histogram2d": [
           {
            "colorbar": {
             "outlinewidth": 0,
             "ticks": ""
            },
            "colorscale": [
             [
              0,
              "#0d0887"
             ],
             [
              0.1111111111111111,
              "#46039f"
             ],
             [
              0.2222222222222222,
              "#7201a8"
             ],
             [
              0.3333333333333333,
              "#9c179e"
             ],
             [
              0.4444444444444444,
              "#bd3786"
             ],
             [
              0.5555555555555556,
              "#d8576b"
             ],
             [
              0.6666666666666666,
              "#ed7953"
             ],
             [
              0.7777777777777778,
              "#fb9f3a"
             ],
             [
              0.8888888888888888,
              "#fdca26"
             ],
             [
              1,
              "#f0f921"
             ]
            ],
            "type": "histogram2d"
           }
          ],
          "histogram2dcontour": [
           {
            "colorbar": {
             "outlinewidth": 0,
             "ticks": ""
            },
            "colorscale": [
             [
              0,
              "#0d0887"
             ],
             [
              0.1111111111111111,
              "#46039f"
             ],
             [
              0.2222222222222222,
              "#7201a8"
             ],
             [
              0.3333333333333333,
              "#9c179e"
             ],
             [
              0.4444444444444444,
              "#bd3786"
             ],
             [
              0.5555555555555556,
              "#d8576b"
             ],
             [
              0.6666666666666666,
              "#ed7953"
             ],
             [
              0.7777777777777778,
              "#fb9f3a"
             ],
             [
              0.8888888888888888,
              "#fdca26"
             ],
             [
              1,
              "#f0f921"
             ]
            ],
            "type": "histogram2dcontour"
           }
          ],
          "mesh3d": [
           {
            "colorbar": {
             "outlinewidth": 0,
             "ticks": ""
            },
            "type": "mesh3d"
           }
          ],
          "parcoords": [
           {
            "line": {
             "colorbar": {
              "outlinewidth": 0,
              "ticks": ""
             }
            },
            "type": "parcoords"
           }
          ],
          "pie": [
           {
            "automargin": true,
            "type": "pie"
           }
          ],
          "scatter": [
           {
            "fillpattern": {
             "fillmode": "overlay",
             "size": 10,
             "solidity": 0.2
            },
            "type": "scatter"
           }
          ],
          "scatter3d": [
           {
            "line": {
             "colorbar": {
              "outlinewidth": 0,
              "ticks": ""
             }
            },
            "marker": {
             "colorbar": {
              "outlinewidth": 0,
              "ticks": ""
             }
            },
            "type": "scatter3d"
           }
          ],
          "scattercarpet": [
           {
            "marker": {
             "colorbar": {
              "outlinewidth": 0,
              "ticks": ""
             }
            },
            "type": "scattercarpet"
           }
          ],
          "scattergeo": [
           {
            "marker": {
             "colorbar": {
              "outlinewidth": 0,
              "ticks": ""
             }
            },
            "type": "scattergeo"
           }
          ],
          "scattergl": [
           {
            "marker": {
             "colorbar": {
              "outlinewidth": 0,
              "ticks": ""
             }
            },
            "type": "scattergl"
           }
          ],
          "scattermapbox": [
           {
            "marker": {
             "colorbar": {
              "outlinewidth": 0,
              "ticks": ""
             }
            },
            "type": "scattermapbox"
           }
          ],
          "scatterpolar": [
           {
            "marker": {
             "colorbar": {
              "outlinewidth": 0,
              "ticks": ""
             }
            },
            "type": "scatterpolar"
           }
          ],
          "scatterpolargl": [
           {
            "marker": {
             "colorbar": {
              "outlinewidth": 0,
              "ticks": ""
             }
            },
            "type": "scatterpolargl"
           }
          ],
          "scatterternary": [
           {
            "marker": {
             "colorbar": {
              "outlinewidth": 0,
              "ticks": ""
             }
            },
            "type": "scatterternary"
           }
          ],
          "surface": [
           {
            "colorbar": {
             "outlinewidth": 0,
             "ticks": ""
            },
            "colorscale": [
             [
              0,
              "#0d0887"
             ],
             [
              0.1111111111111111,
              "#46039f"
             ],
             [
              0.2222222222222222,
              "#7201a8"
             ],
             [
              0.3333333333333333,
              "#9c179e"
             ],
             [
              0.4444444444444444,
              "#bd3786"
             ],
             [
              0.5555555555555556,
              "#d8576b"
             ],
             [
              0.6666666666666666,
              "#ed7953"
             ],
             [
              0.7777777777777778,
              "#fb9f3a"
             ],
             [
              0.8888888888888888,
              "#fdca26"
             ],
             [
              1,
              "#f0f921"
             ]
            ],
            "type": "surface"
           }
          ],
          "table": [
           {
            "cells": {
             "fill": {
              "color": "#EBF0F8"
             },
             "line": {
              "color": "white"
             }
            },
            "header": {
             "fill": {
              "color": "#C8D4E3"
             },
             "line": {
              "color": "white"
             }
            },
            "type": "table"
           }
          ]
         },
         "layout": {
          "annotationdefaults": {
           "arrowcolor": "#2a3f5f",
           "arrowhead": 0,
           "arrowwidth": 1
          },
          "autotypenumbers": "strict",
          "coloraxis": {
           "colorbar": {
            "outlinewidth": 0,
            "ticks": ""
           }
          },
          "colorscale": {
           "diverging": [
            [
             0,
             "#8e0152"
            ],
            [
             0.1,
             "#c51b7d"
            ],
            [
             0.2,
             "#de77ae"
            ],
            [
             0.3,
             "#f1b6da"
            ],
            [
             0.4,
             "#fde0ef"
            ],
            [
             0.5,
             "#f7f7f7"
            ],
            [
             0.6,
             "#e6f5d0"
            ],
            [
             0.7,
             "#b8e186"
            ],
            [
             0.8,
             "#7fbc41"
            ],
            [
             0.9,
             "#4d9221"
            ],
            [
             1,
             "#276419"
            ]
           ],
           "sequential": [
            [
             0,
             "#0d0887"
            ],
            [
             0.1111111111111111,
             "#46039f"
            ],
            [
             0.2222222222222222,
             "#7201a8"
            ],
            [
             0.3333333333333333,
             "#9c179e"
            ],
            [
             0.4444444444444444,
             "#bd3786"
            ],
            [
             0.5555555555555556,
             "#d8576b"
            ],
            [
             0.6666666666666666,
             "#ed7953"
            ],
            [
             0.7777777777777778,
             "#fb9f3a"
            ],
            [
             0.8888888888888888,
             "#fdca26"
            ],
            [
             1,
             "#f0f921"
            ]
           ],
           "sequentialminus": [
            [
             0,
             "#0d0887"
            ],
            [
             0.1111111111111111,
             "#46039f"
            ],
            [
             0.2222222222222222,
             "#7201a8"
            ],
            [
             0.3333333333333333,
             "#9c179e"
            ],
            [
             0.4444444444444444,
             "#bd3786"
            ],
            [
             0.5555555555555556,
             "#d8576b"
            ],
            [
             0.6666666666666666,
             "#ed7953"
            ],
            [
             0.7777777777777778,
             "#fb9f3a"
            ],
            [
             0.8888888888888888,
             "#fdca26"
            ],
            [
             1,
             "#f0f921"
            ]
           ]
          },
          "colorway": [
           "#636efa",
           "#EF553B",
           "#00cc96",
           "#ab63fa",
           "#FFA15A",
           "#19d3f3",
           "#FF6692",
           "#B6E880",
           "#FF97FF",
           "#FECB52"
          ],
          "font": {
           "color": "#2a3f5f"
          },
          "geo": {
           "bgcolor": "white",
           "lakecolor": "white",
           "landcolor": "#E5ECF6",
           "showlakes": true,
           "showland": true,
           "subunitcolor": "white"
          },
          "hoverlabel": {
           "align": "left"
          },
          "hovermode": "closest",
          "mapbox": {
           "style": "light"
          },
          "paper_bgcolor": "white",
          "plot_bgcolor": "#E5ECF6",
          "polar": {
           "angularaxis": {
            "gridcolor": "white",
            "linecolor": "white",
            "ticks": ""
           },
           "bgcolor": "#E5ECF6",
           "radialaxis": {
            "gridcolor": "white",
            "linecolor": "white",
            "ticks": ""
           }
          },
          "scene": {
           "xaxis": {
            "backgroundcolor": "#E5ECF6",
            "gridcolor": "white",
            "gridwidth": 2,
            "linecolor": "white",
            "showbackground": true,
            "ticks": "",
            "zerolinecolor": "white"
           },
           "yaxis": {
            "backgroundcolor": "#E5ECF6",
            "gridcolor": "white",
            "gridwidth": 2,
            "linecolor": "white",
            "showbackground": true,
            "ticks": "",
            "zerolinecolor": "white"
           },
           "zaxis": {
            "backgroundcolor": "#E5ECF6",
            "gridcolor": "white",
            "gridwidth": 2,
            "linecolor": "white",
            "showbackground": true,
            "ticks": "",
            "zerolinecolor": "white"
           }
          },
          "shapedefaults": {
           "line": {
            "color": "#2a3f5f"
           }
          },
          "ternary": {
           "aaxis": {
            "gridcolor": "white",
            "linecolor": "white",
            "ticks": ""
           },
           "baxis": {
            "gridcolor": "white",
            "linecolor": "white",
            "ticks": ""
           },
           "bgcolor": "#E5ECF6",
           "caxis": {
            "gridcolor": "white",
            "linecolor": "white",
            "ticks": ""
           }
          },
          "title": {
           "x": 0.05
          },
          "xaxis": {
           "automargin": true,
           "gridcolor": "white",
           "linecolor": "white",
           "ticks": "",
           "title": {
            "standoff": 15
           },
           "zerolinecolor": "white",
           "zerolinewidth": 2
          },
          "yaxis": {
           "automargin": true,
           "gridcolor": "white",
           "linecolor": "white",
           "ticks": "",
           "title": {
            "standoff": 15
           },
           "zerolinecolor": "white",
           "zerolinewidth": 2
          }
         }
        },
        "title": {
         "text": "Driver Starting and Ending Positions"
        },
        "xaxis": {
         "title": {
          "text": "Driver"
         }
        },
        "yaxis": {
         "dtick": 1,
         "title": {
          "text": "Position"
         }
        }
       }
      }
     },
     "metadata": {},
     "output_type": "display_data"
    }
   ],
   "source": [
    "# Select relevant columns\n",
    "start_end_positions = laps[['Driver', 'Position', 'LapNumber']].copy()\n",
    "\n",
    "# Get starting positions \n",
    "start_positions = start_end_positions[start_end_positions['LapNumber'] == 1].rename(columns={'Position': 'Start Position'})\n",
    "\n",
    "# Get ending positions \n",
    "end_positions = start_end_positions[start_end_positions['LapNumber'] == laps['LapNumber'].max()].rename(columns={'Position': 'End Position'})\n",
    "\n",
    "# Merge start and end positions\n",
    "positions = pd.merge(start_positions[['Driver', 'Start Position']], \n",
    "                     end_positions[['Driver', 'End Position']], \n",
    "                     on='Driver')\n",
    "\n",
    "# Create the bar chart\n",
    "fig = go.Figure()\n",
    "\n",
    "# Add bars for starting positions\n",
    "fig.add_trace(go.Bar(\n",
    "    x=positions['Driver'],\n",
    "    y=positions['Start Position'],\n",
    "    name='Start Position',\n",
    "    marker_color='blue'\n",
    "))\n",
    "\n",
    "# Add bars for ending positions\n",
    "fig.add_trace(go.Bar(\n",
    "    x=positions['Driver'],\n",
    "    y=positions['End Position'],\n",
    "    name='End Position',\n",
    "    marker_color='red'\n",
    "))\n",
    "\n",
    "# Update layout\n",
    "fig.update_layout(\n",
    "    title='Driver Starting and Ending Positions',\n",
    "    xaxis_title='Driver',\n",
    "    yaxis_title='Position',\n",
    "    barmode='group',\n",
    "    legend_title='Position Type',\n",
    "    yaxis=dict(dtick=1)  \n",
    ")\n",
    "\n",
    "\n",
    "fig.show()\n"
   ]
  },
  {
   "cell_type": "markdown",
   "id": "9a8d1b82",
   "metadata": {},
   "source": [
    "The graph shows the starting and ending positions of drivers in a race displaying how well they did in the race. Each blue bar represents the starting position of the corresponding driver at the beginning of the race and the red bar indicates the ending position of the driver after the race. With this graph we can see what each driver did through the other graph such as the tire compound they used during the rain, when they did their pit, and how wind speed affected the race. This all shows us the different strategies each driver had during these weather conditions and whether the worker displayed it they performed better or worse if they did not which influences the final standings. \n"
   ]
  },
  {
   "cell_type": "code",
   "execution_count": 34,
   "id": "9f26c339",
   "metadata": {},
   "outputs": [
    {
     "data": {
      "image/png": "[encoded data removed]",
      "text/plain": [
       "<Figure size 1400x600 with 2 Axes>"
      ]
     },
     "metadata": {},
     "output_type": "display_data"
    }
   ],
   "source": [
    "import pandas as pd\n",
    "import matplotlib.pyplot as plt\n",
    "import numpy as np\n",
    "\n",
    "merged_data['Time_seconds'] = merged_data['Time'].dt.total_seconds()\n",
    "\n",
    "wind_speed_std = merged_data['WindSpeed'].std()\n",
    "wind_speed_corr = merged_data[['WindSpeed', 'Time_seconds']].corr().iloc[0, 1]\n",
    "\n",
    "humidity_std = merged_data['Humidity'].std()\n",
    "humidity_corr = merged_data[['Humidity', 'Time_seconds']].corr().iloc[0, 1]\n",
    "\n",
    "fig, (ax1, ax2) = plt.subplots(1, 2, figsize=(14, 6))\n",
    "\n",
    "ax1.scatter(merged_data['WindSpeed'], merged_data['Time_seconds'], color='blue', alpha=0.6)\n",
    "z1 = np.polyfit(merged_data['WindSpeed'], merged_data['Time_seconds'], 1)\n",
    "p1 = np.poly1d(z1)\n",
    "ax1.plot(merged_data['WindSpeed'], p1(merged_data['WindSpeed']), color='blue', linestyle='--')\n",
    "\n",
    "ax1.set_ylabel('Time (seconds)')\n",
    "ax1.set_xlabel('Wind Speed (m/s)')\n",
    "ax1.set_title('Wind Speed vs Time')\n",
    "\n",
    "ax1.text(0.05, 0.95, f'Std: {wind_speed_std:.2f}', transform=ax1.transAxes, verticalalignment='top', color='blue')\n",
    "ax1.text(0.05, 0.90, f'Corr: {wind_speed_corr:.2f}', transform=ax1.transAxes, verticalalignment='top', color='blue')\n",
    "\n",
    "ax2.scatter(merged_data['Humidity'], merged_data['Time_seconds'], color='orange', alpha=0.6)\n",
    "z2 = np.polyfit(merged_data['Humidity'], merged_data['Time_seconds'], 1)\n",
    "p2 = np.poly1d(z2)\n",
    "ax2.plot(merged_data['Humidity'], p2(merged_data['Humidity']), color='orange', linestyle='--')\n",
    "\n",
    "ax2.set_ylabel('Time (seconds)')\n",
    "ax2.set_xlabel('Humidity (%)')\n",
    "ax2.set_title('Humidity vs Time')\n",
    "\n",
    "ax2.text(0.05, 0.95, f'Std: {humidity_std:.2f}', transform=ax2.transAxes, verticalalignment='top', color='orange')\n",
    "ax2.text(0.05, 0.90, f'Corr: {humidity_corr:.2f}', transform=ax2.transAxes, verticalalignment='top', color='orange')\n",
    "\n",
    "plt.tight_layout()\n",
    "plt.show()"
   ]
  },
  {
   "cell_type": "markdown",
   "id": "f77d9f2f",
   "metadata": {},
   "source": [
    "The above two graphs vizualize Wind speed and Humidity and their affects on a drivers time. As seen in the graphs, both of these relationships show a very weak negative correlation with outliers (especially for windspeed). Additionally, the large standard deviation in the Humidity Graph indicates large variability. "
   ]
  },
  {
   "cell_type": "code",
   "execution_count": null,
   "id": "74bbfdc1",
   "metadata": {},
   "outputs": [],
   "source": [
    "#Turn HumidityLevel to string for labeling\n",
    "aligned_data['HumidityLevel'] = aligned_data['Humidity'].astype(str)\n",
    "\n",
    "#make a count of compounds based on humidity levels\n",
    "compound_humidity_counts = aligned_data.groupby(['Compound', 'HumidityLevel']).size().reset_index(name='Count')\n",
    "\n",
    "#create the plot\n",
    "fig = px.bar(\n",
    "    compound_humidity_counts,\n",
    "    x='Compound',\n",
    "    y='HumidityLevel',\n",
    "    color='blue',  \n",
    "    title='Distribution of Tire Compounds Based on Humidity Levels',\n",
    "    labels={'HumidityLevel': 'Humidity Level'},\n",
    "    barmode='group',  \n",
    "    color_discrete_sequence=px.colors.qualitative.Set2\n",
    ")\n",
    "\n",
    "fig.show()"
   ]
  },
  {
   "cell_type": "markdown",
   "id": "949e9c09",
   "metadata": {},
   "source": [
    "The graph shows teams’ strategic tire choice according to humidity conditions showing how different compounds are used for performance and risks on varying track surfaces and the humidity affecting the track. For example, high humidity can affect the drivers driving itself causing them to sweat as well as also affect the car with the cooling system changing the way they drive. This provides information on optimizing race strategies and tire selection especially depending on high, medium, or low humidity. \n"
   ]
  }
 ],
 "metadata": {
  "kernelspec": {
   "display_name": "Python 3 (ipykernel)",
   "language": "python",
   "name": "python3"
  },
  "language_info": {
   "codemirror_mode": {
    "name": "ipython",
    "version": 3
   },
   "file_extension": ".py",
   "mimetype": "text/x-python",
   "name": "python",
   "nbconvert_exporter": "python",
   "pygments_lexer": "ipython3",
   "version": "3.11.9"
  }
 },
 "nbformat": 4,
 "nbformat_minor": 5
}
